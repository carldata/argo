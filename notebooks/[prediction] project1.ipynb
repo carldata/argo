{
 "cells": [
  {
   "cell_type": "markdown",
   "metadata": {},
   "source": [
    "# Prediction models for Project1\n",
    "\n",
    "This notebook explores the following models:\n",
    "\n",
    "  * MeanModel - Predicts mean value for all future values\n",
    "  * LastDayModel - Predicts the same values like last day (given as futures)"
   ]
  },
  {
   "cell_type": "code",
   "execution_count": 23,
   "metadata": {},
   "outputs": [],
   "source": [
    "import datetime\n",
    "import pprint\n",
    "import json\n",
    "import numpy as np\n",
    "import pandas as pd\n",
    "from sklearn.metrics import mean_squared_error\n",
    "import matplotlib.pyplot as plt\n",
    "from matplotlib import rcParams\n",
    "rcParams['figure.figsize'] = 12, 4"
   ]
  },
  {
   "cell_type": "markdown",
   "metadata": {},
   "source": [
    "## Load project"
   ]
  },
  {
   "cell_type": "code",
   "execution_count": 57,
   "metadata": {},
   "outputs": [
    {
     "name": "stdout",
     "output_type": "stream",
     "text": [
      "{'end-date': '2017-11-09',\n",
      " 'flows': ['flow1'],\n",
      " 'name': 'Project1',\n",
      " 'rainfalls': [],\n",
      " 'split-date': '2016-11-10',\n",
      " 'start-date': '2013-09-10'}\n",
      "Flow1\n",
      "<class 'pandas.core.frame.DataFrame'>\n",
      "Int64Index: 437823 entries, 158 to 437980\n",
      "Data columns (total 2 columns):\n",
      "time    437823 non-null datetime64[ns]\n",
      "flow    437823 non-null float64\n",
      "dtypes: datetime64[ns](1), float64(1)\n",
      "memory usage: 10.0 MB\n",
      "None\n"
     ]
    },
    {
     "data": {
      "text/html": [
       "<div>\n",
       "<style scoped>\n",
       "    .dataframe tbody tr th:only-of-type {\n",
       "        vertical-align: middle;\n",
       "    }\n",
       "\n",
       "    .dataframe tbody tr th {\n",
       "        vertical-align: top;\n",
       "    }\n",
       "\n",
       "    .dataframe thead th {\n",
       "        text-align: right;\n",
       "    }\n",
       "</style>\n",
       "<table border=\"1\" class=\"dataframe\">\n",
       "  <thead>\n",
       "    <tr style=\"text-align: right;\">\n",
       "      <th></th>\n",
       "      <th>time</th>\n",
       "      <th>flow</th>\n",
       "    </tr>\n",
       "  </thead>\n",
       "  <tbody>\n",
       "    <tr>\n",
       "      <th>158</th>\n",
       "      <td>2013-09-10 00:00:00</td>\n",
       "      <td>0.0</td>\n",
       "    </tr>\n",
       "    <tr>\n",
       "      <th>159</th>\n",
       "      <td>2013-09-10 00:05:00</td>\n",
       "      <td>0.0</td>\n",
       "    </tr>\n",
       "    <tr>\n",
       "      <th>160</th>\n",
       "      <td>2013-09-10 00:10:00</td>\n",
       "      <td>0.0</td>\n",
       "    </tr>\n",
       "    <tr>\n",
       "      <th>161</th>\n",
       "      <td>2013-09-10 00:15:00</td>\n",
       "      <td>0.0</td>\n",
       "    </tr>\n",
       "    <tr>\n",
       "      <th>162</th>\n",
       "      <td>2013-09-10 00:20:00</td>\n",
       "      <td>0.0</td>\n",
       "    </tr>\n",
       "  </tbody>\n",
       "</table>\n",
       "</div>"
      ],
      "text/plain": [
       "                   time  flow\n",
       "158 2013-09-10 00:00:00   0.0\n",
       "159 2013-09-10 00:05:00   0.0\n",
       "160 2013-09-10 00:10:00   0.0\n",
       "161 2013-09-10 00:15:00   0.0\n",
       "162 2013-09-10 00:20:00   0.0"
      ]
     },
     "execution_count": 57,
     "metadata": {},
     "output_type": "execute_result"
    }
   ],
   "source": [
    "project_folder = '../datasets/project1/'\n",
    "with open(project_folder + 'project.json', 'r') as file:\n",
    "    project = json.load(file)\n",
    "pprint.pprint(project)\n",
    "print('Flow1')\n",
    "flow = pd.read_csv('../datasets/project1/flow1.csv', parse_dates=['time'])\n",
    "flow = flow[(flow.time >= project['start-date']) & (flow.time < project['end-date'])]\n",
    "print(flow.info())\n",
    "flow.head()"
   ]
  },
  {
   "cell_type": "markdown",
   "metadata": {},
   "source": [
    "## Create train and test dataset\n",
    "\n",
    "Dataset consists of the following features:\n",
    "\n",
    "  * Vector of last 24h data\n",
    "  \n",
    "and target value:\n",
    "\n",
    "  * Vector of next 24 predictions"
   ]
  },
  {
   "cell_type": "code",
   "execution_count": 86,
   "metadata": {},
   "outputs": [
    {
     "name": "stdout",
     "output_type": "stream",
     "text": [
      "day\n",
      "2013-09-10    [0.0, 0.0, 0.0, 0.0, 0.0, 0.0, 0.0, 0.0, 0.0, ...\n",
      "2013-09-11    [0.0, 0.0, 0.0, 0.0, 0.0, 0.0, 0.0, 0.0, 0.0, ...\n",
      "2013-09-12    [82.87, 82.79, 81.71, 80.66, 79.71, 79.0, 77.7...\n",
      "2013-09-13    [77.74, 75.79, 74.45, 73.56, 72.8, 70.86, 70.6...\n",
      "2013-09-14    [78.26, 76.82, 76.2, 74.92, 74.39, 73.36, 72.5...\n",
      "Name: flow, dtype: object\n"
     ]
    },
    {
     "data": {
      "text/html": [
       "<div>\n",
       "<style scoped>\n",
       "    .dataframe tbody tr th:only-of-type {\n",
       "        vertical-align: middle;\n",
       "    }\n",
       "\n",
       "    .dataframe tbody tr th {\n",
       "        vertical-align: top;\n",
       "    }\n",
       "\n",
       "    .dataframe thead th {\n",
       "        text-align: right;\n",
       "    }\n",
       "</style>\n",
       "<table border=\"1\" class=\"dataframe\">\n",
       "  <thead>\n",
       "    <tr style=\"text-align: right;\">\n",
       "      <th></th>\n",
       "      <th>flow_last_24h</th>\n",
       "      <th>target</th>\n",
       "    </tr>\n",
       "    <tr>\n",
       "      <th>day</th>\n",
       "      <th></th>\n",
       "      <th></th>\n",
       "    </tr>\n",
       "  </thead>\n",
       "  <tbody>\n",
       "    <tr>\n",
       "      <th>2013-09-13</th>\n",
       "      <td>[82.87, 82.79, 81.71, 80.66, 79.71, 79.0, 77.7...</td>\n",
       "      <td>[77.74, 75.79, 74.45, 73.56, 72.8, 70.86, 70.6...</td>\n",
       "    </tr>\n",
       "    <tr>\n",
       "      <th>2013-09-14</th>\n",
       "      <td>[77.74, 75.79, 74.45, 73.56, 72.8, 70.86, 70.6...</td>\n",
       "      <td>[78.26, 76.82, 76.2, 74.92, 74.39, 73.36, 72.5...</td>\n",
       "    </tr>\n",
       "    <tr>\n",
       "      <th>2013-09-15</th>\n",
       "      <td>[78.26, 76.82, 76.2, 74.92, 74.39, 73.36, 72.5...</td>\n",
       "      <td>[78.25, 75.89, 74.8, 73.52, 73.93, 73.4, 73.64...</td>\n",
       "    </tr>\n",
       "    <tr>\n",
       "      <th>2013-09-16</th>\n",
       "      <td>[78.25, 75.89, 74.8, 73.52, 73.93, 73.4, 73.64...</td>\n",
       "      <td>[70.27, 69.54, 67.95, 66.94, 66.25, 65.56, 65....</td>\n",
       "    </tr>\n",
       "    <tr>\n",
       "      <th>2013-09-17</th>\n",
       "      <td>[70.27, 69.54, 67.95, 66.94, 66.25, 65.56, 65....</td>\n",
       "      <td>[75.92, 72.4, 70.43, 70.35, 70.81, 70.82, 69.7...</td>\n",
       "    </tr>\n",
       "  </tbody>\n",
       "</table>\n",
       "</div>"
      ],
      "text/plain": [
       "                                                flow_last_24h  \\\n",
       "day                                                             \n",
       "2013-09-13  [82.87, 82.79, 81.71, 80.66, 79.71, 79.0, 77.7...   \n",
       "2013-09-14  [77.74, 75.79, 74.45, 73.56, 72.8, 70.86, 70.6...   \n",
       "2013-09-15  [78.26, 76.82, 76.2, 74.92, 74.39, 73.36, 72.5...   \n",
       "2013-09-16  [78.25, 75.89, 74.8, 73.52, 73.93, 73.4, 73.64...   \n",
       "2013-09-17  [70.27, 69.54, 67.95, 66.94, 66.25, 65.56, 65....   \n",
       "\n",
       "                                                       target  \n",
       "day                                                            \n",
       "2013-09-13  [77.74, 75.79, 74.45, 73.56, 72.8, 70.86, 70.6...  \n",
       "2013-09-14  [78.26, 76.82, 76.2, 74.92, 74.39, 73.36, 72.5...  \n",
       "2013-09-15  [78.25, 75.89, 74.8, 73.52, 73.93, 73.4, 73.64...  \n",
       "2013-09-16  [70.27, 69.54, 67.95, 66.94, 66.25, 65.56, 65....  \n",
       "2013-09-17  [75.92, 72.4, 70.43, 70.35, 70.81, 70.82, 69.7...  "
      ]
     },
     "execution_count": 86,
     "metadata": {},
     "output_type": "execute_result"
    }
   ],
   "source": [
    "flow['day'] = flow.time.map(pd.Timestamp.date)\n",
    "df = flow.groupby('day')['flow'].apply(list)\n",
    "print(df.head())\n",
    "dataset = pd.DataFrame({'flow_last_24h': df.shift(), 'target': df})\n",
    "dataset = dataset[datetime.date(2013, 9, 13):]\n",
    "dataset.head()"
   ]
  },
  {
   "cell_type": "markdown",
   "metadata": {},
   "source": [
    "# Helper functions\n",
    "\n",
    "Helper functions for building training and test sets and calculating score"
   ]
  },
  {
   "cell_type": "code",
   "execution_count": 15,
   "metadata": {},
   "outputs": [],
   "source": [
    "class PredictionModel:\n",
    "    \n",
    "    def fit(self, X, y):\n",
    "        pass\n",
    "        \n",
    "    def predict(self, X):\n",
    "        pass\n",
    "\n",
    "    \n",
    "def split(df, day):\n",
    "    \"\"\"\n",
    "    Split dataset into training set and test set on a given day.\n",
    "    All data before given day will be added to the training set, \n",
    "    while data from the given day will be used to create test set\n",
    "    \"\"\"\n",
    "    next_day = day + pd.Timedelta(1, 'D')\n",
    "    train = df[df.time < day]\n",
    "    test = df[(df.time >= day) & (df.time < next_day)]\n",
    "    X_train = train[['time']]\n",
    "    Y_train = train['flow']\n",
    "    X_test = test[['time']]\n",
    "    Y_test = test['flow']\n",
    "    return X_train, Y_train, X_test, Y_test\n",
    "\n",
    "\n",
    "def rmse(y_hat, y):\n",
    "    \"\"\"\n",
    "    Calculate Root Mean Square Error\n",
    "    \"\"\"\n",
    "    return np.sqrt(mean_squared_error(y_hat, y))\n",
    "\n",
    "\n",
    "def evaluate_model(model, split_day):\n",
    "    \"\"\"\n",
    "    Evaluate model on all days starting from split_day.\n",
    "    Returns 99th percentile error as model score\n",
    "    \"\"\"\n",
    "    costs = []\n",
    "\n",
    "    while True:\n",
    "        X_train, Y_train, X_test, Y_test = split(dataset, split_day)\n",
    "        if len(X_test) == 0:\n",
    "            break\n",
    "        model.fit(X_train, Y_train)\n",
    "        cost = rmse(model.predict(X_test), Y_test)\n",
    "        costs.append(cost)\n",
    "        split_day += pd.Timedelta(1, 'D')\n",
    "    return np.percentile(costs, 99)"
   ]
  },
  {
   "cell_type": "markdown",
   "metadata": {},
   "source": [
    "# Models\n",
    "\n",
    "## MeanModel\n",
    "\n",
    "Calculate mean from all datapoint in the training set. \n",
    "Ignore features and predict constant value (equal to this mean) for all predicted values"
   ]
  },
  {
   "cell_type": "code",
   "execution_count": 16,
   "metadata": {},
   "outputs": [
    {
     "name": "stdout",
     "output_type": "stream",
     "text": [
      "MeanModel score: 35.60\n"
     ]
    }
   ],
   "source": [
    "class MeanModel(PredictionModel):\n",
    "    \n",
    "    def __init__(self):\n",
    "        self.mu = 0\n",
    "    \n",
    "    def fit(self, X, y):\n",
    "        self.mu = np.mean(y)\n",
    "        \n",
    "    def predict(self, X):\n",
    "        return np.ones(len(X)) * self.mu    \n",
    "\n",
    "\n",
    "score = evaluate_model(MeanModel(), pd.Timestamp('2016-11-11'))\n",
    "print('MeanModel score: {:.2f}'.format(score))"
   ]
  },
  {
   "cell_type": "markdown",
   "metadata": {},
   "source": [
    "\n",
    "## Last day model\n",
    "\n",
    "Here we will build 2 naive models. \n",
    "\n",
    "First on always predicts 0 value. The second one predicts mean value. \n",
    "\n",
    "We will evaluate which model is better"
   ]
  },
  {
   "cell_type": "code",
   "execution_count": null,
   "metadata": {
    "collapsed": true
   },
   "outputs": [],
   "source": []
  }
 ],
 "metadata": {
  "anaconda-cloud": {},
  "kernelspec": {
   "display_name": "Python 3",
   "language": "python",
   "name": "python3"
  },
  "language_info": {
   "codemirror_mode": {
    "name": "ipython",
    "version": 3
   },
   "file_extension": ".py",
   "mimetype": "text/x-python",
   "name": "python",
   "nbconvert_exporter": "python",
   "pygments_lexer": "ipython3",
   "version": "3.6.3"
  }
 },
 "nbformat": 4,
 "nbformat_minor": 2
}
