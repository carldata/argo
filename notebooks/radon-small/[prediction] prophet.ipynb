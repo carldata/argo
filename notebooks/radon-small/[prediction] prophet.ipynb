{
 "cells": [
  {
   "cell_type": "markdown",
   "metadata": {},
   "source": [
    "# test Facebook Prohpet library\n",
    "\n",
    "Test prediction model based on Facebook [Prophet](https://facebook.github.io/prophet) library"
   ]
  },
  {
   "cell_type": "code",
   "execution_count": 1,
   "metadata": {
    "collapsed": true
   },
   "outputs": [],
   "source": [
    "import datetime\n",
    "import calendar\n",
    "import pprint\n",
    "import json\n",
    "import numpy as np\n",
    "import pandas as pd\n",
    "from fbprophet import Prophet\n",
    "import matplotlib.pyplot as plt\n",
    "from matplotlib import rcParams\n",
    "rcParams['figure.figsize'] = 12, 4"
   ]
  },
  {
   "cell_type": "markdown",
   "metadata": {},
   "source": [
    "# Load project"
   ]
  },
  {
   "cell_type": "code",
   "execution_count": 2,
   "metadata": {},
   "outputs": [
    {
     "name": "stdout",
     "output_type": "stream",
     "text": [
      "{'end-date': '2017-11-09',\n",
      " 'flows': ['flow1'],\n",
      " 'name': 'radon-small',\n",
      " 'rainfalls': [],\n",
      " 'split-date': '2016-11-09',\n",
      " 'start-date': '2013-10-01'}\n",
      "Flow1\n"
     ]
    },
    {
     "data": {
      "text/plain": [
       "time\n",
       "2013-09-09 10:50:00     2.805\n",
       "2013-09-09 10:55:00     2.796\n",
       "2013-09-09 11:00:00     2.791\n",
       "2013-09-09 11:05:00    46.680\n",
       "2013-09-09 11:10:00    48.030\n",
       "Freq: 5T, Name: flow, dtype: float64"
      ]
     },
     "execution_count": 2,
     "metadata": {},
     "output_type": "execute_result"
    }
   ],
   "source": [
    "project_folder = '../../datasets/radon-small/'\n",
    "with open(project_folder + 'project.json', 'r') as file:\n",
    "    project = json.load(file)\n",
    "pprint.pprint(project)\n",
    "print('Flow1')\n",
    "flow = pd.read_csv(project_folder + 'flow1.csv', parse_dates=['time'])\n",
    "flow = flow.set_index('time')['flow'].fillna(0)\n",
    "flow = flow.resample('5T').pad()\n",
    "flow.head()"
   ]
  },
  {
   "cell_type": "markdown",
   "metadata": {},
   "source": [
    "## Helper functions\n",
    "\n",
    "Helper functions for building training and test sets and calculating score"
   ]
  },
  {
   "cell_type": "code",
   "execution_count": 3,
   "metadata": {},
   "outputs": [
    {
     "data": {
      "text/plain": [
       "time\n",
       "2016-11-09 23:40:00    77.021540\n",
       "2016-11-09 23:45:00    76.518930\n",
       "2016-11-09 23:50:00    76.294914\n",
       "2016-11-09 23:55:00    74.822395\n",
       "2016-11-10 00:00:00    73.598236\n",
       "Freq: 5T, Name: flow, dtype: float64"
      ]
     },
     "execution_count": 3,
     "metadata": {},
     "output_type": "execute_result"
    }
   ],
   "source": [
    "class PredictionModel:\n",
    "    \n",
    "    def update(self, data_points):\n",
    "        pass\n",
    "        \n",
    "    def predict(self, prediction_day):\n",
    "        pass\n",
    "\n",
    "    \n",
    "def mae(y_hat, y):\n",
    "    \"\"\"\n",
    "    Calculate Mean Absolute Error \n",
    "    This metric is better here since serries have quite big outliers\n",
    "    \"\"\"\n",
    "    return np.sum(np.absolute(y_hat-y))/y.shape[0]\n",
    "\n",
    "\n",
    "def split_data(split_day):\n",
    "    \"\"\"Get all data up to given day\"\"\"\n",
    "    return flow[:split_day]\n",
    "\n",
    "\n",
    "def evaluate_model(model, start_day):\n",
    "    \"\"\"\n",
    "    Evaluate model on all days starting from split_day.\n",
    "    Returns 90th percentile error as model score\n",
    "    \"\"\"\n",
    "    last_day = pd.Timestamp(project['end-date'])\n",
    "    split_day = start_day\n",
    "    costs = []\n",
    "    data = split_data(split_day)\n",
    "    model.fit(data)\n",
    "    while split_day < last_day:\n",
    "        next_day = split_day + pd.Timedelta(1, 'D')\n",
    "        y = flow[next_day: next_day+pd.Timedelta('1439 min')]\n",
    "        cost = mae(model.predict(next_day), y)\n",
    "        costs.append(cost)\n",
    "        split_day = next_day\n",
    "    return np.percentile(costs, 90), costs\n",
    "\n",
    "\n",
    "split_data(pd.Timestamp('2016-11-10')).tail()"
   ]
  },
  {
   "cell_type": "markdown",
   "metadata": {},
   "source": [
    "# Prophet"
   ]
  },
  {
   "cell_type": "code",
   "execution_count": 7,
   "metadata": {},
   "outputs": [
    {
     "name": "stdout",
     "output_type": "stream",
     "text": [
      "ProphetModel score: 44.88\n",
      "Score for the split day: 5.06\n"
     ]
    }
   ],
   "source": [
    "class ProphetModel(PredictionModel):\n",
    "    \n",
    "    def __init__(self):\n",
    "        self.prophet = Prophet()\n",
    "    \n",
    "    def fit(self, xs):\n",
    "        df = xs.to_frame().reset_index()\n",
    "        df = df.rename(columns={'time': 'ds', 'flow': 'y'})\n",
    "        self.prophet.fit(df)\n",
    "        \n",
    "    def predict(self, day):\n",
    "        df = flow[day: day+pd.Timedelta('1439 min')].to_frame().reset_index()\n",
    "        df = df.rename(columns={'time': 'ds', 'flow': 'y'})\n",
    "        return self.prophet.predict(df)['yhat'].values\n",
    "\n",
    "    \n",
    "model = ProphetModel()\n",
    "score, costs = evaluate_model(model, pd.Timestamp('2016-11-11'))\n",
    "print('ProphetModel score: {:.2f}'.format(score))\n",
    "print('Score for the split day: {:.2f}'.format(costs[0]))"
   ]
  },
  {
   "cell_type": "markdown",
   "metadata": {},
   "source": [
    "This was easy case. Mean model has score: 5.01 on the split day, and score for the whole year: 9.61\n",
    "\n",
    "Lest now check more difficult day, when the flow is different from what we can expect:"
   ]
  },
  {
   "cell_type": "code",
   "execution_count": 8,
   "metadata": {},
   "outputs": [
    {
     "name": "stdout",
     "output_type": "stream",
     "text": [
      "Score for the split day: 15.11\n"
     ]
    }
   ],
   "source": [
    "model = ProphetModel()\n",
    "score, costs = evaluate_model(model, pd.Timestamp('2017-05-01'))\n",
    "print('Score for the split day: {:.2f}'.format(costs[0]))"
   ]
  },
  {
   "cell_type": "markdown",
   "metadata": {},
   "source": [
    "Mean model for this day has score: 16.67"
   ]
  },
  {
   "cell_type": "code",
   "execution_count": 55,
   "metadata": {},
   "outputs": [
    {
     "data": {
      "image/png": "[encoded data removed]",
      "text/plain": [
       "<matplotlib.figure.Figure at 0x7fc5e0ac7e48>"
      ]
     },
     "metadata": {},
     "output_type": "display_data"
    }
   ],
   "source": [
    "plt.plot(costs)\n",
    "plt.show()"
   ]
  }
 ],
 "metadata": {
  "anaconda-cloud": {},
  "kernelspec": {
   "display_name": "Python 3",
   "language": "python",
   "name": "python3"
  },
  "language_info": {
   "codemirror_mode": {
    "name": "ipython",
    "version": 3
   },
   "file_extension": ".py",
   "mimetype": "text/x-python",
   "name": "python",
   "nbconvert_exporter": "python",
   "pygments_lexer": "ipython3",
   "version": "3.6.3"
  }
 },
 "nbformat": 4,
 "nbformat_minor": 2
}
