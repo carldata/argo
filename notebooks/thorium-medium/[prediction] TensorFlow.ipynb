{
 "cells": [
  {
   "cell_type": "markdown",
   "metadata": {},
   "source": [
    "# TensorFlow implementation of prediction modeling\n",
    "\n",
    "This notebook tries to reimplement the whole pipe line in TensorFlow."
   ]
  },
  {
   "cell_type": "code",
   "execution_count": 1,
   "metadata": {
    "collapsed": true
   },
   "outputs": [],
   "source": [
    "import datetime\n",
    "import calendar\n",
    "import tensorflow as tf\n",
    "import numpy as np\n",
    "import pandas as pd\n",
    "from sklearn import tree\n",
    "import matplotlib.pyplot as plt\n",
    "from matplotlib import rcParams\n",
    "rcParams['figure.figsize'] = 12, 4"
   ]
  },
  {
   "cell_type": "markdown",
   "metadata": {},
   "source": [
    "# Load project\n",
    "\n",
    "Load rainfall and flow data from the files and clean it by:\n",
    "  * Resampling to 5 minutes\n",
    "  * Slice to the common range\n",
    "  * Fill NaNs"
   ]
  },
  {
   "cell_type": "code",
   "execution_count": 102,
   "metadata": {},
   "outputs": [
    {
     "name": "stdout",
     "output_type": "stream",
     "text": [
      "                 time        flow  rainfall\n",
      "0 2015-06-01 14:15:00  115.559998       0.0\n",
      "1 2015-06-01 14:20:00  115.199997       0.0\n",
      "2 2015-06-01 14:25:00  112.209999       0.0\n",
      "3 2015-06-01 14:30:00  112.860001       0.0\n",
      "4 2015-06-01 14:35:00  113.349998       0.0\n",
      "                      time        flow  rainfall\n",
      "257185 2017-11-10 14:20:00  107.830002       0.0\n",
      "257186 2017-11-10 14:25:00  107.459999       0.0\n",
      "257187 2017-11-10 14:30:00  106.919998       0.0\n",
      "257188 2017-11-10 14:35:00  105.559998       0.0\n",
      "257189 2017-11-10 14:40:00  104.940002       0.0\n"
     ]
    }
   ],
   "source": [
    "project_folder = '../../datasets/thorium-medium/'\n",
    "flow = pd.read_csv(project_folder + 'flow1.csv', parse_dates=['time'])\n",
    "flow = flow.set_index('time')['flow'].fillna(0)\n",
    "flow = flow.resample('5T').pad()\n",
    "rainfall = pd.read_csv(project_folder + 'rainfall1.csv', parse_dates=['time'])\n",
    "rainfall = rainfall.set_index('time')['rainfall'].fillna(0)\n",
    "rainfall = rainfall.resample('5T').pad()\n",
    "flow_rain = pd.concat([flow, rainfall], axis=1).dropna().reset_index()\n",
    "print(flow_rain.head())\n",
    "print(flow_rain.tail())"
   ]
  },
  {
   "cell_type": "markdown",
   "metadata": {},
   "source": [
    "## Convert Data into separate parts\n",
    "\n",
    "DateTime can be used to construct feature vector. But to allow working with dates in TensorFlow we need to convert it to separate fields:\n",
    "  * year\n",
    "  * day of year\n",
    "  * minute of day"
   ]
  },
  {
   "cell_type": "code",
   "execution_count": 103,
   "metadata": {},
   "outputs": [
    {
     "data": {
      "text/html": [
       "<div>\n",
       "<style scoped>\n",
       "    .dataframe tbody tr th:only-of-type {\n",
       "        vertical-align: middle;\n",
       "    }\n",
       "\n",
       "    .dataframe tbody tr th {\n",
       "        vertical-align: top;\n",
       "    }\n",
       "\n",
       "    .dataframe thead th {\n",
       "        text-align: right;\n",
       "    }\n",
       "</style>\n",
       "<table border=\"1\" class=\"dataframe\">\n",
       "  <thead>\n",
       "    <tr style=\"text-align: right;\">\n",
       "      <th></th>\n",
       "      <th>year</th>\n",
       "      <th>day</th>\n",
       "      <th>minute</th>\n",
       "      <th>flow</th>\n",
       "      <th>rainfall</th>\n",
       "    </tr>\n",
       "  </thead>\n",
       "  <tbody>\n",
       "    <tr>\n",
       "      <th>0</th>\n",
       "      <td>2015</td>\n",
       "      <td>152</td>\n",
       "      <td>855</td>\n",
       "      <td>115.559998</td>\n",
       "      <td>0.0</td>\n",
       "    </tr>\n",
       "    <tr>\n",
       "      <th>1</th>\n",
       "      <td>2015</td>\n",
       "      <td>152</td>\n",
       "      <td>860</td>\n",
       "      <td>115.199997</td>\n",
       "      <td>0.0</td>\n",
       "    </tr>\n",
       "    <tr>\n",
       "      <th>2</th>\n",
       "      <td>2015</td>\n",
       "      <td>152</td>\n",
       "      <td>865</td>\n",
       "      <td>112.209999</td>\n",
       "      <td>0.0</td>\n",
       "    </tr>\n",
       "    <tr>\n",
       "      <th>3</th>\n",
       "      <td>2015</td>\n",
       "      <td>152</td>\n",
       "      <td>870</td>\n",
       "      <td>112.860001</td>\n",
       "      <td>0.0</td>\n",
       "    </tr>\n",
       "    <tr>\n",
       "      <th>4</th>\n",
       "      <td>2015</td>\n",
       "      <td>152</td>\n",
       "      <td>875</td>\n",
       "      <td>113.349998</td>\n",
       "      <td>0.0</td>\n",
       "    </tr>\n",
       "  </tbody>\n",
       "</table>\n",
       "</div>"
      ],
      "text/plain": [
       "   year  day  minute        flow  rainfall\n",
       "0  2015  152     855  115.559998       0.0\n",
       "1  2015  152     860  115.199997       0.0\n",
       "2  2015  152     865  112.209999       0.0\n",
       "3  2015  152     870  112.860001       0.0\n",
       "4  2015  152     875  113.349998       0.0"
      ]
     },
     "execution_count": 103,
     "metadata": {},
     "output_type": "execute_result"
    }
   ],
   "source": [
    "flow_rain['year'] = flow_rain.time.map(lambda x : x.year)\n",
    "flow_rain['day'] = flow_rain.time.map(lambda x : x.dayofyear)\n",
    "flow_rain['minute'] = flow_rain.time.map(lambda x : x.hour*60 + x.minute)\n",
    "dataset = flow_rain[['year', 'day', 'minute', 'flow', 'rainfall']]\n",
    "dataset.head()"
   ]
  },
  {
   "cell_type": "markdown",
   "metadata": {},
   "source": [
    "# Feature Engineering\n",
    "\n",
    "This notebook we use the following features:\n",
    "  * One hot encoding of minut of the day"
   ]
  },
  {
   "cell_type": "code",
   "execution_count": 87,
   "metadata": {},
   "outputs": [
    {
     "name": "stdout",
     "output_type": "stream",
     "text": [
      "DatetimeIndex(['2015-06-02 00:00:00', '2015-06-02 00:05:00',\n",
      "               '2015-06-02 00:10:00', '2015-06-02 00:15:00',\n",
      "               '2015-06-02 00:20:00', '2015-06-02 00:25:00',\n",
      "               '2015-06-02 00:30:00', '2015-06-02 00:35:00',\n",
      "               '2015-06-02 00:40:00', '2015-06-02 00:45:00',\n",
      "               ...\n",
      "               '2017-11-09 23:10:00', '2017-11-09 23:15:00',\n",
      "               '2017-11-09 23:20:00', '2017-11-09 23:25:00',\n",
      "               '2017-11-09 23:30:00', '2017-11-09 23:35:00',\n",
      "               '2017-11-09 23:40:00', '2017-11-09 23:45:00',\n",
      "               '2017-11-09 23:50:00', '2017-11-09 23:55:00'],\n",
      "              dtype='datetime64[ns]', name='time', length=256896, freq='5T')\n"
     ]
    },
    {
     "data": {
      "text/plain": [
       "<tf.Tensor 'Const_1088:0' shape=(5,) dtype=float64>"
      ]
     },
     "execution_count": 87,
     "metadata": {},
     "output_type": "execute_result"
    }
   ],
   "source": [
    "def encode_time(times):\n",
    "    \"\"\"\n",
    "    Encode 1D Tensors with times into one hot encoded 2D tensor with minutes from 00:00 as category\n",
    "    \"\"\"\n",
    "    return times\n",
    "\n",
    "print(flow.index)\n",
    "x = tf.constant(flow.head().values)\n",
    "x"
   ]
  },
  {
   "cell_type": "markdown",
   "metadata": {},
   "source": [
    "# Define TensorFlow graph\n",
    "\n",
    "The graph will consists of the following operations:\n",
    " * loss function\n",
    " * training\n",
    " * evaluation"
   ]
  },
  {
   "cell_type": "code",
   "execution_count": 82,
   "metadata": {},
   "outputs": [
    {
     "name": "stdout",
     "output_type": "stream",
     "text": [
      "Error: 100.00%\n"
     ]
    }
   ],
   "source": [
    "class PredictionModel:\n",
    "\n",
    "    def fit(self, flow, rain):\n",
    "        pass\n",
    "        \n",
    "    def predict(self, day, rain):\n",
    "        return tf.zeros(shape=288)\n",
    "\n",
    "    \n",
    "def rmse(y_hat, y):\n",
    "    \"\"\"\n",
    "    https://en.wikipedia.org/wiki/Mean_absolute_percentage_error\n",
    "    This function as an input get 2 tensors which should have the same 1D size\n",
    "    And returns TensorFlow graph operation which can be executed to get the score\n",
    "    \"\"\"\n",
    "    score_op = 100 * tf.reduce_mean(tf.abs((y-y_hat) / y))\n",
    "    return score_op\n",
    "\n",
    "\n",
    "def split_data(flow, split_day):\n",
    "    \"\"\"Get all data up to given day\"\"\"\n",
    "    end_day = split_day - pd.Timedelta('1 min')\n",
    "    return flow[:end_day]\n",
    "\n",
    "\n",
    "def evaluate_day(model, flow, rain, split_day):\n",
    "    \"\"\"Evaluate data for single day\"\"\"\n",
    "    xs = split_data(flow, split_day)\n",
    "    next_day = split_day + pd.Timedelta(1, 'D')\n",
    "    y = flow[next_day: next_day+pd.Timedelta('1439 min')]\n",
    "    y = tf.cast(tf.constant(y), tf.float32)\n",
    "    with tf.Session() as sess:\n",
    "        model.fit(xs, rain)\n",
    "        y_hat = model.predict(next_day, rain)\n",
    "        error = sess.run(rmse(y_hat, y))\n",
    "    return error\n",
    "\n",
    "\n",
    "def evaluate_model(model, flow, rain, start_day):\n",
    "    \"\"\"\n",
    "    Evaluate model on all days starting from the split_day.\n",
    "    Returns 95th percentile error as model score\n",
    "    \"\"\"\n",
    "    last_day = flow.index[-1] - pd.Timedelta(1, 'D')\n",
    "    split_day = start_day\n",
    "    costs = []\n",
    "    while split_day < last_day:\n",
    "        cost = evaluate_day(model, flow, rain, split_day)\n",
    "        costs.append(cost)\n",
    "        split_day += pd.Timedelta(1, 'D')\n",
    "    return np.percentile(costs, 95), costs\n",
    "\n",
    "\n",
    "error = evaluate_day(PredictionModel(), flow, rainfall, pd.Timestamp('2016-11-10'))\n",
    "print('Error: {:.2f}%'.format(error))"
   ]
  },
  {
   "cell_type": "markdown",
   "metadata": {},
   "source": [
    "# Evaluate some models for year 2017\n",
    "\n",
    "## Mean model"
   ]
  },
  {
   "cell_type": "code",
   "execution_count": 61,
   "metadata": {},
   "outputs": [
    {
     "name": "stdout",
     "output_type": "stream",
     "text": [
      "MeanModel 95th percentile error: 22.69%\n"
     ]
    }
   ],
   "source": [
    "class MeanModel:\n",
    "\n",
    "    def fit(self, flow, rain):\n",
    "        self.mean = np.mean(flow.values)\n",
    "        \n",
    "    def predict(self, day, rain):\n",
    "        return np.ones(288) * self.mean\n",
    "\n",
    "    \n",
    "score, costs = evaluate_model(MeanModel(), flow, rainfall, pd.Timestamp('2017-01-01'))\n",
    "print('MeanModel 95th percentile error: {:.2f}%'.format(score))"
   ]
  },
  {
   "cell_type": "markdown",
   "metadata": {},
   "source": [
    "## Daily pattern model"
   ]
  },
  {
   "cell_type": "code",
   "execution_count": 22,
   "metadata": {},
   "outputs": [
    {
     "name": "stdout",
     "output_type": "stream",
     "text": [
      "DailyPatternModel 95th percentile error: 19.48%\n"
     ]
    }
   ],
   "source": [
    "class DailyPatternModel:\n",
    "    \n",
    "    def fit(self, flow, rain):\n",
    "        \"\"\" Use daily pattern \"\"\"\n",
    "        df = flow.to_frame().reset_index()\n",
    "        self.daily_pattern = df.groupby(by=[df.time.map(lambda x : (x.hour, x.minute))]).flow.mean().values\n",
    "        \n",
    "    def predict(self, day, rain):\n",
    "        idx = pd.date_range(pd.Timestamp('2016-11-10'), periods=288, freq='5T')\n",
    "        return self.daily_pattern\n",
    "    \n",
    "    \n",
    "score, costs = evaluate_model(DailyPatternModel(), flow, rainfall, pd.Timestamp('2017-01-01'))\n",
    "print('DailyPatternModel 95th percentile error: {:.2f}%'.format(score))"
   ]
  },
  {
   "cell_type": "markdown",
   "metadata": {},
   "source": [
    "## Last day model"
   ]
  },
  {
   "cell_type": "code",
   "execution_count": 24,
   "metadata": {},
   "outputs": [
    {
     "name": "stdout",
     "output_type": "stream",
     "text": [
      "LastDayModel 95th percentile error: 17.86%\n"
     ]
    }
   ],
   "source": [
    "class LastDayModel(PredictionModel):\n",
    "    \n",
    "    def fit(self, flow, rain):\n",
    "        self.y = flow.values[-288:]\n",
    "        \n",
    "    def predict(self, day, rain):\n",
    "        return self.y\n",
    "    \n",
    "score, costs = evaluate_model(LastDayModel(), flow, rainfall, pd.Timestamp('2017-01-01'))\n",
    "print('LastDayModel 95th percentile error: {:.2f}%'.format(score))    "
   ]
  },
  {
   "cell_type": "markdown",
   "metadata": {},
   "source": [
    "## Daily pattern for working and non working days"
   ]
  },
  {
   "cell_type": "code",
   "execution_count": 29,
   "metadata": {},
   "outputs": [
    {
     "name": "stdout",
     "output_type": "stream",
     "text": [
      "WeeklyPatternModel 95th percentile error: 19.67%\n"
     ]
    }
   ],
   "source": [
    "class WeeklyPatternModel(PredictionModel):\n",
    "    \n",
    "    def fit(self, flow, rain):\n",
    "        df = flow.to_frame().reset_index()\n",
    "        df_working = df[df.time.dt.dayofweek < 5]\n",
    "        df_weekend = df[df.time.dt.dayofweek > 4]\n",
    "        self.daily_pattern_working = df.groupby(by=[df_working.time.map(lambda x : (x.hour, x.minute))]).flow.mean().values\n",
    "        self.daily_pattern_weekend = df.groupby(by=[df_weekend.time.map(lambda x : (x.hour, x.minute))]).flow.mean().values\n",
    "        \n",
    "    def predict(self, day, rain):\n",
    "        if day.dayofweek < 5:\n",
    "            return self.daily_pattern_working\n",
    "        else:\n",
    "            return self.daily_pattern_weekend\n",
    "\n",
    "    \n",
    "score, costs = evaluate_model(WeeklyPatternModel(), flow, rainfall, pd.Timestamp('2017-01-01'))\n",
    "print('WeeklyPatternModel 95th percentile error: {:.2f}%'.format(score))    "
   ]
  }
 ],
 "metadata": {
  "anaconda-cloud": {},
  "kernelspec": {
   "display_name": "Python [default]",
   "language": "python",
   "name": "python3"
  },
  "language_info": {
   "codemirror_mode": {
    "name": "ipython",
    "version": 3
   },
   "file_extension": ".py",
   "mimetype": "text/x-python",
   "name": "python",
   "nbconvert_exporter": "python",
   "pygments_lexer": "ipython3",
   "version": "3.5.2"
  }
 },
 "nbformat": 4,
 "nbformat_minor": 2
}
