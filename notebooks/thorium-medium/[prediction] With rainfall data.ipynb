{
 "cells": [
  {
   "cell_type": "markdown",
   "metadata": {},
   "source": [
    "# Prediction using rainfall data\n",
    "\n",
    "The best model without rainfall data is Mean Daily Pattern Model.\n",
    "In this notebook we try to improve this model by using precipitation information."
   ]
  },
  {
   "cell_type": "code",
   "execution_count": 9,
   "metadata": {
    "collapsed": true
   },
   "outputs": [],
   "source": [
    "import datetime\n",
    "import calendar\n",
    "import json\n",
    "import numpy as np\n",
    "import pandas as pd\n",
    "from sklearn import tree\n",
    "import matplotlib.pyplot as plt\n",
    "from matplotlib import rcParams\n",
    "rcParams['figure.figsize'] = 12, 4"
   ]
  },
  {
   "cell_type": "markdown",
   "metadata": {},
   "source": [
    "# Load project"
   ]
  },
  {
   "cell_type": "code",
   "execution_count": 2,
   "metadata": {},
   "outputs": [
    {
     "name": "stdout",
     "output_type": "stream",
     "text": [
      "{\n",
      "    \"end-date\": \"2017-10-01\",\n",
      "    \"start-date\": \"2015-06-02\",\n",
      "    \"rainfalls\": [\n",
      "        \"rainfall1\"\n",
      "    ],\n",
      "    \"name\": \"thorium-medium\",\n",
      "    \"split-date\": \"2017-01-01\",\n",
      "    \"flows\": [\n",
      "        \"flow1\"\n",
      "    ]\n",
      "}\n",
      "                           flow  rainfall\n",
      "time                                     \n",
      "2015-06-01 14:15:00  115.559998       0.0\n",
      "2015-06-01 14:20:00  115.199997       0.0\n",
      "2015-06-01 14:25:00  112.209999       0.0\n",
      "2015-06-01 14:30:00  112.860001       0.0\n",
      "2015-06-01 14:35:00  113.349998       0.0\n",
      "                           flow  rainfall\n",
      "time                                     \n",
      "2017-11-10 14:20:00  107.830002       0.0\n",
      "2017-11-10 14:25:00  107.459999       0.0\n",
      "2017-11-10 14:30:00  106.919998       0.0\n",
      "2017-11-10 14:35:00  105.559998       0.0\n",
      "2017-11-10 14:40:00  104.940002       0.0\n"
     ]
    }
   ],
   "source": [
    "project_folder = '../../datasets/thorium-medium/'\n",
    "with open(project_folder + 'project.json', 'r') as file:\n",
    "    project = json.load(file)\n",
    "print(json.dumps(project, indent=4))\n",
    "flow = pd.read_csv(project_folder + 'flow1.csv', parse_dates=['time'])\n",
    "flow = flow.set_index('time')['flow'].fillna(0)\n",
    "flow = flow.resample('5T').pad()\n",
    "rainfall = pd.read_csv(project_folder + 'rainfall1.csv', parse_dates=['time'])\n",
    "rainfall = rainfall.set_index('time')['rainfall'].fillna(0)\n",
    "rainfall = rainfall.resample('5T').pad()\n",
    "flow_rain = pd.concat([flow, rainfall], axis=1).dropna()\n",
    "print(flow_rain.head())\n",
    "print(flow_rain.tail())"
   ]
  },
  {
   "cell_type": "markdown",
   "metadata": {},
   "source": [
    "## Helper functions\n",
    "\n",
    "Helper functions for building training and test sets and calculating score"
   ]
  },
  {
   "cell_type": "code",
   "execution_count": 3,
   "metadata": {},
   "outputs": [
    {
     "data": {
      "text/plain": [
       "time\n",
       "2016-11-09 23:35:00    105.589996\n",
       "2016-11-09 23:40:00    105.540001\n",
       "2016-11-09 23:45:00    104.260002\n",
       "2016-11-09 23:50:00    100.989998\n",
       "2016-11-09 23:55:00     99.059998\n",
       "Freq: 5T, Name: flow, dtype: float64"
      ]
     },
     "execution_count": 3,
     "metadata": {},
     "output_type": "execute_result"
    }
   ],
   "source": [
    "class PredictionModel:\n",
    "    \n",
    "    def fit(self, data_points):\n",
    "        pass\n",
    "        \n",
    "    def predict(self, prediction_day):\n",
    "        pass\n",
    "\n",
    "    \n",
    "def mae(y_hat, y):\n",
    "    \"\"\"\n",
    "    Calculate Mean Absolute Error \n",
    "    This metric is better here since series have quite big outliers\n",
    "    \"\"\"\n",
    "    return np.sum(np.absolute(y_hat-y))/y.shape[0]\n",
    "\n",
    "\n",
    "def split_data(split_day):\n",
    "    \"\"\"Get all data up to given day\"\"\"\n",
    "    end_day = split_day - pd.Timedelta('1 min')\n",
    "    return flow[:end_day]\n",
    "\n",
    "\n",
    "def evaluate_day(model, split_day):\n",
    "    \"\"\"Evaluate data for single day\"\"\"\n",
    "    xs = split_data(split_day)\n",
    "    next_day = split_day + pd.Timedelta(1, 'D')\n",
    "    y = flow[next_day: next_day+pd.Timedelta('1439 min')]\n",
    "    model.fit(xs)\n",
    "    y_hat = model.predict(next_day)\n",
    "    return mae(y_hat, y)\n",
    "\n",
    "\n",
    "def evaluate_model(model, start_day):\n",
    "    \"\"\"\n",
    "    Evaluate model on all days starting from split_day.\n",
    "    Returns 90th percentile error as model score\n",
    "    \"\"\"\n",
    "    last_day = pd.Timestamp(project['end-date'])\n",
    "    split_day = start_day\n",
    "    costs = []\n",
    "    while split_day < last_day:\n",
    "        cost = evaluate_day(model, split_day)\n",
    "        costs.append(cost)\n",
    "        split_day += pd.Timedelta(1, 'D')\n",
    "    return np.percentile(costs, 90), costs\n",
    "\n",
    "\n",
    "split_data(pd.Timestamp('2016-11-10')).tail()"
   ]
  },
  {
   "cell_type": "markdown",
   "metadata": {},
   "source": [
    "# Models"
   ]
  },
  {
   "cell_type": "markdown",
   "metadata": {},
   "source": [
    "## Last hour model\n",
    "\n",
    "Use daily pattern and add inflow based on regression calculated from 1h precipitation"
   ]
  },
  {
   "cell_type": "code",
   "execution_count": 71,
   "metadata": {},
   "outputs": [],
   "source": [
    "MIN_PRECIPITATION = 4\n",
    "flow_rain['precipitation_1h'] = flow_rain.rainfall.rolling(12).sum()\n",
    "df = flow_rain[flow_rain.precipitation_1h < MIN_PRECIPITATION].reset_index()\n",
    "daily_pattern = df.groupby(by=[df.time.map(lambda x : (x.hour, x.minute))]).flow.mean()\n",
    "\n",
    "def inflow(row):\n",
    "    pattern_idx = (row.name.hour, row.name.minute)\n",
    "    pattern_value = daily_pattern[pattern_idx]\n",
    "    return row.flow - pattern_value\n",
    "\n",
    "flow_rain['inflow'] = flow_rain.apply(inflow, axis=1)"
   ]
  },
  {
   "cell_type": "code",
   "execution_count": 72,
   "metadata": {},
   "outputs": [
    {
     "name": "stdout",
     "output_type": "stream",
     "text": [
      "InflowModel score: 15.84\n"
     ]
    }
   ],
   "source": [
    "class InflowModel(PredictionModel):\n",
    "    \n",
    "    def fit(self, xs):\n",
    "        self.daily_pattern = daily_pattern.values\n",
    "        df = flow_rain[(flow_rain.precipitation_1h >= MIN_PRECIPITATION) & (flow_rain.inflow < 100)]\n",
    "        self.clf = tree.DecisionTreeRegressor()\n",
    "        self.clf = self.clf.fit(df[['precipitation_1h']].values, df.inflow.values)\n",
    "        \n",
    "    def predict(self, day):\n",
    "        df = flow_rain[day: day + pd.Timedelta('1439 min')]\n",
    "        df2 = (df.precipitation_1h >= MIN_PRECIPITATION) & (df.inflow < 100)\n",
    "        return daily_pattern.values + self.clf.predict(df[['precipitation_1h']].values) * df2\n",
    "\n",
    "    \n",
    "score, costs = evaluate_model(InflowModel(), pd.Timestamp('2016-11-11'))\n",
    "print('InflowModel score: {:.2f}'.format(score))"
   ]
  },
  {
   "cell_type": "code",
   "execution_count": null,
   "metadata": {},
   "outputs": [],
   "source": [
    "class DecisionTreeModel(PredictionModel):\n",
    "    \n",
    "    def fit(self, xs):\n",
    "        self.daily_pattern = daily_pattern.values\n",
    "#         df_inflow = df[df.precipitation_1h > 3]\n",
    "        self.clf = tree.DecisionTreeRegressor()\n",
    "        self.clf = self.clf.fit(df[['precipitation_1h']], df.inflow)\n",
    "        \n",
    "    def predict(self, day):\n",
    "        df = flow_rain[day: day + pd.Timedelta('1439 min')]\n",
    "        return daily_pattern.values + self.clf.predict(df[['precipitation_1h']].values)\n",
    "\n",
    "    \n",
    "score, costs = evaluate_model(InflowModel(), pd.Timestamp('2016-11-11'))\n",
    "print('InflowModel score: {:.2f}'.format(score))"
   ]
  }
 ],
 "metadata": {
  "anaconda-cloud": {},
  "kernelspec": {
   "display_name": "Python [default]",
   "language": "python",
   "name": "python3"
  },
  "language_info": {
   "codemirror_mode": {
    "name": "ipython",
    "version": 3
   },
   "file_extension": ".py",
   "mimetype": "text/x-python",
   "name": "python",
   "nbconvert_exporter": "python",
   "pygments_lexer": "ipython3",
   "version": "3.5.2"
  }
 },
 "nbformat": 4,
 "nbformat_minor": 2
}
