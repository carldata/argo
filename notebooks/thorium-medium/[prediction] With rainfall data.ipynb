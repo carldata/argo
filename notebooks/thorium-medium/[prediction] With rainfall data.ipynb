{
 "cells": [
  {
   "cell_type": "markdown",
   "metadata": {},
   "source": [
    "# [WIP] Prediction using rainfall data\n",
    "\n",
    "The best model without rainfall data is Mean Daily Pattern Model.\n",
    "In this notebook we try to improve this model by using precipitation information."
   ]
  },
  {
   "cell_type": "code",
   "execution_count": 11,
   "metadata": {
    "collapsed": true
   },
   "outputs": [],
   "source": [
    "import datetime\n",
    "import calendar\n",
    "import json\n",
    "import numpy as np\n",
    "import pandas as pd\n",
    "from sklearn import tree\n",
    "import matplotlib.pyplot as plt\n",
    "from matplotlib import rcParams\n",
    "rcParams['figure.figsize'] = 12, 4"
   ]
  },
  {
   "cell_type": "markdown",
   "metadata": {},
   "source": [
    "# Load project"
   ]
  },
  {
   "cell_type": "code",
   "execution_count": 2,
   "metadata": {},
   "outputs": [
    {
     "name": "stdout",
     "output_type": "stream",
     "text": [
      "{\n",
      "    \"start-date\": \"2015-06-02\",\n",
      "    \"split-date\": \"2017-01-01\",\n",
      "    \"end-date\": \"2017-10-01\",\n",
      "    \"name\": \"thorium-medium\",\n",
      "    \"flows\": [\n",
      "        \"flow1\"\n",
      "    ],\n",
      "    \"rainfalls\": [\n",
      "        \"rainfall1\"\n",
      "    ]\n",
      "}\n",
      "                           flow  rainfall\n",
      "time                                     \n",
      "2015-06-01 14:15:00  115.559998       0.0\n",
      "2015-06-01 14:20:00  115.199997       0.0\n",
      "2015-06-01 14:25:00  112.209999       0.0\n",
      "2015-06-01 14:30:00  112.860001       0.0\n",
      "2015-06-01 14:35:00  113.349998       0.0\n",
      "                           flow  rainfall\n",
      "time                                     \n",
      "2017-11-10 14:20:00  107.830002       0.0\n",
      "2017-11-10 14:25:00  107.459999       0.0\n",
      "2017-11-10 14:30:00  106.919998       0.0\n",
      "2017-11-10 14:35:00  105.559998       0.0\n",
      "2017-11-10 14:40:00  104.940002       0.0\n"
     ]
    }
   ],
   "source": [
    "project_folder = '../../datasets/thorium-medium/'\n",
    "with open(project_folder + 'project.json', 'r') as file:\n",
    "    project = json.load(file)\n",
    "print(json.dumps(project, indent=4))\n",
    "flow = pd.read_csv(project_folder + 'flow1.csv', parse_dates=['time'])\n",
    "flow = flow.set_index('time')['flow'].fillna(0)\n",
    "flow = flow.resample('5T').pad()\n",
    "rainfall = pd.read_csv(project_folder + 'rainfall1.csv', parse_dates=['time'])\n",
    "rainfall = rainfall.set_index('time')['rainfall'].fillna(0)\n",
    "rainfall = rainfall.resample('5T').pad()\n",
    "flow_rain = pd.concat([flow, rainfall], axis=1).dropna()\n",
    "print(flow_rain.head())\n",
    "print(flow_rain.tail())"
   ]
  },
  {
   "cell_type": "markdown",
   "metadata": {},
   "source": [
    "## Helper functions\n",
    "\n",
    "Helper functions for building training and test sets and calculating score"
   ]
  },
  {
   "cell_type": "code",
   "execution_count": 18,
   "metadata": {},
   "outputs": [
    {
     "data": {
      "text/plain": [
       "8.7293481901433569"
      ]
     },
     "execution_count": 18,
     "metadata": {},
     "output_type": "execute_result"
    }
   ],
   "source": [
    "class PredictionModel:\n",
    "    \n",
    "    def fit(self, flow, rain):\n",
    "        \"\"\" Use daily pattern \"\"\"\n",
    "        df = flow.to_frame().reset_index()\n",
    "        self.daily_pattern = df.groupby(by=[df.time.map(lambda x : (x.hour, x.minute))]).flow.mean().values\n",
    "        \n",
    "    def predict(self, day, rain):\n",
    "        return self.daily_pattern\n",
    "\n",
    "    \n",
    "def loss(y_hat, y):\n",
    "    \"\"\"\n",
    "    https://en.wikipedia.org/wiki/Mean_absolute_percentage_error\n",
    "    \"\"\"\n",
    "    return 100.0 * np.sum(np.abs((y-y_hat) / y)) / y.shape[0]\n",
    "\n",
    "\n",
    "def split_data(flow, split_day):\n",
    "    \"\"\"Get all data up to given day\"\"\"\n",
    "    end_day = split_day - pd.Timedelta('1 min')\n",
    "    return flow[:end_day]\n",
    "\n",
    "\n",
    "def evaluate_day(model, flow, rain, split_day):\n",
    "    \"\"\"Evaluate data for single day\"\"\"\n",
    "    xs = split_data(flow, split_day)\n",
    "    next_day = split_day + pd.Timedelta(1, 'D')\n",
    "    y = flow[next_day: next_day+pd.Timedelta('1439 min')]\n",
    "    model.fit(xs, rain)\n",
    "    y_hat = model.predict(next_day, rain)\n",
    "    return loss(y_hat, y)\n",
    "\n",
    "\n",
    "def evaluate_model(model, flow, rain, start_day):\n",
    "    \"\"\"\n",
    "    Evaluate model on all days starting from split_day.\n",
    "    Returns 90th percentile error as model score\n",
    "    \"\"\"\n",
    "    last_day = flow.index[-1] - pd.Timedelta(1, 'D')\n",
    "    split_day = start_day\n",
    "    costs = []\n",
    "    while split_day < last_day:\n",
    "        cost = evaluate_day(model, flow, rain, split_day)\n",
    "        costs.append(cost)\n",
    "        split_day += pd.Timedelta(1, 'D')\n",
    "    return np.mean(costs), costs\n",
    "\n",
    "evaluate_day(PredictionModel(), flow_rain.flow, flow_rain.rainfall, pd.Timestamp('2016-11-10'))"
   ]
  },
  {
   "cell_type": "markdown",
   "metadata": {},
   "source": [
    "# Extract features\n",
    "\n",
    "Extract the following features:\n",
    "\n",
    "  * Minut of the day\n",
    "  * Total precipitation in the last N hours"
   ]
  },
  {
   "cell_type": "code",
   "execution_count": 20,
   "metadata": {},
   "outputs": [],
   "source": [
    "def encode_time(xs):\n",
    "    \"\"\"\n",
    "    Encode time as Int value\n",
    "    Params:\n",
    "      times - pd.Series with Timestamp\n",
    "    Return:\n",
    "      pd.Series with encoded time\n",
    "    \"\"\"\n",
    "    return xs.map(lambda x: x.hour*60+x.minute)\n",
    "\n",
    "\n",
    "def encode_features(flow, rain, last_rain_window = 2):\n",
    "    \"\"\"\n",
    "    Create feature vector based on \n",
    "    Return feature and expected values\n",
    "    \"\"\"\n",
    "    df = pd.concat([flow, rain], axis=1).reset_index()\n",
    "    df['last_rain'] = df.rainfall.rolling(last_rain_window*12).sum()\n",
    "    df['minutes'] = encode_time(df.time)\n",
    "    df = df.dropna()\n",
    "    return (df[['minutes', 'last_rain']], df.flow)\n",
    "\n",
    "\n",
    "def prepare_prediction_features(day, rain, last_rain_window = 2):\n",
    "    last_rain = rain.rolling(last_rain_window*12).sum()\n",
    "    ts = pd.date_range(day, periods=288, freq='5T')\n",
    "    minutes = pd.Series(data=encode_time(ts), index=ts)\n",
    "    df = pd.concat([minutes, last_rain], axis=1).dropna()\n",
    "    return df"
   ]
  },
  {
   "cell_type": "markdown",
   "metadata": {},
   "source": [
    "# Models"
   ]
  },
  {
   "cell_type": "markdown",
   "metadata": {},
   "source": [
    "## Linear regression\n",
    "\n",
    "As a baseline lets try Linear Model"
   ]
  },
  {
   "cell_type": "code",
   "execution_count": 23,
   "metadata": {},
   "outputs": [
    {
     "name": "stdout",
     "output_type": "stream",
     "text": [
      "LinearModel score: 13.73\n"
     ]
    }
   ],
   "source": [
    "from sklearn.linear_model import LinearRegression\n",
    "\n",
    "class LinearModel(PredictionModel):\n",
    "    \n",
    "    def fit(self, flow, rain):\n",
    "        X, y = encode_features(flow, rain)\n",
    "        self.clf = LinearRegression()\n",
    "        self.clf.fit(X, y)\n",
    "        \n",
    "    def predict(self, day, rain):\n",
    "        X = prepare_prediction_features(day, rain)\n",
    "        return self.clf.predict(X)    \n",
    "\n",
    "score, costs = evaluate_model(LinearModel(), flow_rain.flow, flow_rain.rainfall, pd.Timestamp('2017-01-01'))\n",
    "print('LinearModel score: {:.2f}%'.format(score))"
   ]
  },
  {
   "cell_type": "markdown",
   "metadata": {},
   "source": [
    "## Decision Tree Regressor\n",
    "\n",
    "First not linear model. Should improve on linear model"
   ]
  },
  {
   "cell_type": "code",
   "execution_count": 24,
   "metadata": {},
   "outputs": [
    {
     "name": "stdout",
     "output_type": "stream",
     "text": [
      "DTModel 2h score: 9.24%\n"
     ]
    }
   ],
   "source": [
    "from sklearn import tree\n",
    "\n",
    "class DTModel(PredictionModel):\n",
    "    \n",
    "    def __init__(self, rain_window_size=2):\n",
    "        self.rain_window_size = rain_window_size\n",
    "    \n",
    "    def fit(self, flow, rain):\n",
    "        X, y = encode_features(flow, rain, self.rain_window_size)\n",
    "        self.clf = tree.DecisionTreeRegressor()\n",
    "        self.clf.fit(X, y)\n",
    "        \n",
    "    def predict(self, day, rain):\n",
    "        X = prepare_prediction_features(day, rain, self.rain_window_size)\n",
    "        return self.clf.predict(X)\n",
    "    \n",
    "\n",
    "score, costs = evaluate_model(DTModel(2), flow_rain.flow, flow_rain.rainfall, pd.Timestamp('2017-01-01'))\n",
    "print('DTModel 2h score: {:.2f}%'.format(score))"
   ]
  },
  {
   "cell_type": "markdown",
   "metadata": {},
   "source": [
    "## XGBoost"
   ]
  },
  {
   "cell_type": "code",
   "execution_count": null,
   "metadata": {},
   "outputs": [],
   "source": [
    "import xgboost as xg\n",
    "\n",
    "class XGBoostModel(PredictionModel):\n",
    "    \n",
    "    def __init__(self, rain_window_size=2):\n",
    "        self.rain_window_size = rain_window_size\n",
    "    \n",
    "    def fit(self, flow, rain):\n",
    "        X, y = encode_features(flow, rain, self.rain_window_size)\n",
    "        self.clf = xg.XGBRegressor()\n",
    "        self.clf.fit(X.values, y.values)\n",
    "        \n",
    "    def predict(self, day, rain):\n",
    "        X = prepare_prediction_features(day, rain, self.rain_window_size)\n",
    "        return self.clf.predict(X.values)\n",
    "    \n",
    "    def encode_time(self, time):\n",
    "        return time.hour*60+time.minute\n",
    "    \n",
    "\n",
    "score, costs = evaluate_model(XGBoostModel(2), flow_rain.flow, flow_rain.rainfall, pd.Timestamp('2017-01-01'))\n",
    "print('XGBoostModel 2h score: {:.2f}'.format(score))"
   ]
  }
 ],
 "metadata": {
  "anaconda-cloud": {},
  "kernelspec": {
   "display_name": "Python [default]",
   "language": "python",
   "name": "python3"
  },
  "language_info": {
   "codemirror_mode": {
    "name": "ipython",
    "version": 3
   },
   "file_extension": ".py",
   "mimetype": "text/x-python",
   "name": "python",
   "nbconvert_exporter": "python",
   "pygments_lexer": "ipython3",
   "version": "3.5.2"
  }
 },
 "nbformat": 4,
 "nbformat_minor": 2
}
