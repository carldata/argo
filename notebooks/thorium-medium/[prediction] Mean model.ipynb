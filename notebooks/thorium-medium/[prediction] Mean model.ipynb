{
 "cells": [
  {
   "cell_type": "markdown",
   "metadata": {},
   "source": [
    "# Prediction based on daily pattern model\n",
    "\n",
    "Compare the following models\n",
    "\n",
    "  * Previous day model - Next day is the same like previous day\n",
    "  * Daily Pattern model - Calculate daily pattern from historical data. Use it as next day prediction."
   ]
  },
  {
   "cell_type": "code",
   "execution_count": 1,
   "metadata": {
    "collapsed": true
   },
   "outputs": [],
   "source": [
    "import datetime\n",
    "import calendar\n",
    "import json\n",
    "import numpy as np\n",
    "import pandas as pd\n",
    "import matplotlib.pyplot as plt\n",
    "from matplotlib import rcParams\n",
    "rcParams['figure.figsize'] = 12, 4"
   ]
  },
  {
   "cell_type": "markdown",
   "metadata": {},
   "source": [
    "# Load project"
   ]
  },
  {
   "cell_type": "code",
   "execution_count": 19,
   "metadata": {},
   "outputs": [
    {
     "name": "stdout",
     "output_type": "stream",
     "text": [
      "{\n",
      "    \"start-date\": \"2015-06-02\",\n",
      "    \"flows\": [\n",
      "        \"flow1\"\n",
      "    ],\n",
      "    \"end-date\": \"2017-10-01\",\n",
      "    \"rainfalls\": [\n",
      "        \"rainfall1\"\n",
      "    ],\n",
      "    \"split-date\": \"2017-01-01\",\n",
      "    \"name\": \"thorium-medium\"\n",
      "}\n",
      "                           flow  rainfall\n",
      "time                                     \n",
      "2015-06-01 14:15:00  115.559998       0.0\n",
      "2015-06-01 14:20:00  115.199997       0.0\n",
      "2015-06-01 14:25:00  112.209999       0.0\n",
      "2015-06-01 14:30:00  112.860001       0.0\n",
      "2015-06-01 14:35:00  113.349998       0.0\n",
      "                           flow  rainfall\n",
      "time                                     \n",
      "2017-11-10 14:20:00  107.830002       0.0\n",
      "2017-11-10 14:25:00  107.459999       0.0\n",
      "2017-11-10 14:30:00  106.919998       0.0\n",
      "2017-11-10 14:35:00  105.559998       0.0\n",
      "2017-11-10 14:40:00  104.940002       0.0\n"
     ]
    }
   ],
   "source": [
    "project_folder = '../../datasets/thorium-medium/'\n",
    "with open(project_folder + 'project.json', 'r') as file:\n",
    "    project = json.load(file)\n",
    "print(json.dumps(project, indent=4))\n",
    "flow = pd.read_csv(project_folder + 'flow1.csv', parse_dates=['time'])\n",
    "flow = flow.set_index('time')['flow'].fillna(0)\n",
    "flow = flow.resample('5T').pad()\n",
    "rainfall = pd.read_csv(project_folder + 'rainfall1.csv', parse_dates=['time'])\n",
    "rainfall = rainfall.set_index('time')['rainfall'].fillna(0)\n",
    "rainfall = rainfall.resample('5T').pad()\n",
    "flow_rain = pd.concat([flow, rainfall], axis=1).dropna()\n",
    "print(flow_rain.head())\n",
    "print(flow_rain.tail())"
   ]
  },
  {
   "cell_type": "markdown",
   "metadata": {},
   "source": [
    "## Helper functions\n",
    "\n",
    "Helper functions for building training and test sets and calculating score"
   ]
  },
  {
   "cell_type": "code",
   "execution_count": 13,
   "metadata": {},
   "outputs": [
    {
     "data": {
      "text/plain": [
       "time\n",
       "2016-11-09 23:35:00    105.589996\n",
       "2016-11-09 23:40:00    105.540001\n",
       "2016-11-09 23:45:00    104.260002\n",
       "2016-11-09 23:50:00    100.989998\n",
       "2016-11-09 23:55:00     99.059998\n",
       "Freq: 5T, Name: flow, dtype: float64"
      ]
     },
     "execution_count": 13,
     "metadata": {},
     "output_type": "execute_result"
    }
   ],
   "source": [
    "class PredictionModel:\n",
    "    \n",
    "    def fit(self, data_points):\n",
    "        pass\n",
    "        \n",
    "    def predict(self, prediction_day):\n",
    "        pass\n",
    "\n",
    "    \n",
    "def mae(y_hat, y):\n",
    "    \"\"\"\n",
    "    Calculate Mean Absolute Error \n",
    "    This metric is better here since series have quite big outliers\n",
    "    \"\"\"\n",
    "    return np.sum(np.absolute(y_hat-y))/y.shape[0]\n",
    "\n",
    "\n",
    "def split_data(split_day):\n",
    "    \"\"\"Get all data up to given day\"\"\"\n",
    "    end_day = split_day - pd.Timedelta('1 min')\n",
    "    return flow[:end_day]\n",
    "\n",
    "\n",
    "def evaluate_day(model, split_day):\n",
    "    \"\"\"Evaluate data for single day\"\"\"\n",
    "    xs = split_data(split_day)\n",
    "    next_day = split_day + pd.Timedelta(1, 'D')\n",
    "    y = flow[next_day: next_day+pd.Timedelta('1439 min')]\n",
    "    model.fit(xs)\n",
    "    y_hat = model.predict(next_day)\n",
    "    return mae(y_hat, y)\n",
    "\n",
    "\n",
    "def evaluate_model(model, start_day):\n",
    "    \"\"\"\n",
    "    Evaluate model on all days starting from split_day.\n",
    "    Returns 90th percentile error as model score\n",
    "    \"\"\"\n",
    "    last_day = pd.Timestamp(project['end-date'])\n",
    "    split_day = start_day\n",
    "    costs = []\n",
    "    while split_day < last_day:\n",
    "        cost = evaluate_day(model, split_day)\n",
    "        costs.append(cost)\n",
    "        split_day += pd.Timedelta(1, 'D')\n",
    "    return np.percentile(costs, 90), costs\n",
    "\n",
    "\n",
    "split_data(pd.Timestamp('2016-11-10')).tail()"
   ]
  },
  {
   "cell_type": "markdown",
   "metadata": {},
   "source": [
    "# Models"
   ]
  },
  {
   "cell_type": "markdown",
   "metadata": {},
   "source": [
    "## Previous Day Model\n",
    "\n",
    "Uses values from last day"
   ]
  },
  {
   "cell_type": "code",
   "execution_count": 15,
   "metadata": {},
   "outputs": [
    {
     "name": "stdout",
     "output_type": "stream",
     "text": [
      "LastDayModel score: 16.21\n"
     ]
    }
   ],
   "source": [
    "class LastDayModel(PredictionModel):\n",
    "    \n",
    "    def fit(self, xs):\n",
    "        self.y = xs.values[-288:]\n",
    "        \n",
    "    def predict(self, day):\n",
    "        return self.y\n",
    "\n",
    "    \n",
    "score, costs = evaluate_model(LastDayModel(), pd.Timestamp('2016-11-11'))\n",
    "print('LastDayModel score: {:.2f}'.format(score))"
   ]
  },
  {
   "cell_type": "markdown",
   "metadata": {},
   "source": [
    "Model for single day. Easy case"
   ]
  },
  {
   "cell_type": "code",
   "execution_count": 16,
   "metadata": {},
   "outputs": [
    {
     "data": {
      "text/plain": [
       "12.860659811231825"
      ]
     },
     "execution_count": 16,
     "metadata": {},
     "output_type": "execute_result"
    }
   ],
   "source": [
    "evaluate_day(LastDayModel(), pd.Timestamp('2016-11-11'))"
   ]
  },
  {
   "cell_type": "markdown",
   "metadata": {},
   "source": [
    "And when next day is kind of outlier"
   ]
  },
  {
   "cell_type": "code",
   "execution_count": 17,
   "metadata": {},
   "outputs": [
    {
     "data": {
      "text/plain": [
       "25.201145966847736"
      ]
     },
     "execution_count": 17,
     "metadata": {},
     "output_type": "execute_result"
    }
   ],
   "source": [
    "evaluate_day(LastDayModel(), pd.Timestamp('2017-05-01'))"
   ]
  },
  {
   "cell_type": "markdown",
   "metadata": {},
   "source": [
    "## Daily Pattern model\n",
    "\n",
    "Create pattern of daily usage based on historical data. Use this pattern to predict next values\n",
    "\n",
    "(This can take up to 10 minutes to calculate)"
   ]
  },
  {
   "cell_type": "code",
   "execution_count": 18,
   "metadata": {},
   "outputs": [
    {
     "name": "stdout",
     "output_type": "stream",
     "text": [
      "DailyPatternModel score: 15.95\n"
     ]
    }
   ],
   "source": [
    "class DailyPatternModel(PredictionModel):\n",
    "    \n",
    "    def fit(self, xs):\n",
    "        df = flow.to_frame().reset_index()\n",
    "        self.daily_pattern = df.groupby(by=[df.time.map(lambda x : (x.hour, x.minute))]).flow.mean().values\n",
    "        \n",
    "    def predict(self, day):\n",
    "        return self.daily_pattern\n",
    "\n",
    "    \n",
    "score, costs = evaluate_model(DailyPatternModel(), pd.Timestamp('2016-11-11'))\n",
    "print('DailyPatternModel score: {:.2f}'.format(score))"
   ]
  },
  {
   "cell_type": "markdown",
   "metadata": {},
   "source": [
    "### Daily Pattern Median Model\n",
    "Calculate median value for each time. Use it as a prediction for the next day."
   ]
  },
  {
   "cell_type": "code",
   "execution_count": 20,
   "metadata": {},
   "outputs": [
    {
     "name": "stdout",
     "output_type": "stream",
     "text": [
      "DayModel score: 17.47\n"
     ]
    }
   ],
   "source": [
    "class DayMedianModel(PredictionModel):\n",
    "    \n",
    "    def fit(self, xs):\n",
    "        df = flow.to_frame().reset_index()\n",
    "        self.daily_pattern = df.groupby(by=[df.time.map(lambda x : (x.hour, x.minute))]).flow.median().values\n",
    "        \n",
    "    def predict(self, day):\n",
    "        return self.daily_pattern\n",
    "\n",
    "    \n",
    "score, costs = evaluate_model(DayMedianModel(), pd.Timestamp('2016-11-11'))\n",
    "print('DayModel score: {:.2f}'.format(score))"
   ]
  },
  {
   "cell_type": "markdown",
   "metadata": {},
   "source": [
    "## Daily pattern for working and non-working days\n",
    "\n",
    "For same data the daily pattern is different for working and non-working days. Lets check if it improves the model here."
   ]
  },
  {
   "cell_type": "code",
   "execution_count": 26,
   "metadata": {},
   "outputs": [
    {
     "name": "stdout",
     "output_type": "stream",
     "text": [
      "WeeklyPatternModel score: 15.90\n"
     ]
    }
   ],
   "source": [
    "class WeeklyPatternModel(PredictionModel):\n",
    "    \n",
    "    def fit(self, xs):\n",
    "        df = flow.to_frame().reset_index()\n",
    "        df_working = df[df.time.dt.dayofweek < 5]\n",
    "        df_weekend = df[df.time.dt.dayofweek > 4]\n",
    "        self.daily_pattern_working = df.groupby(by=[df_working.time.map(lambda x : (x.hour, x.minute))]).flow.mean().values\n",
    "        self.daily_pattern_weekend = df.groupby(by=[df_weekend.time.map(lambda x : (x.hour, x.minute))]).flow.mean().values\n",
    "        \n",
    "    def predict(self, day):\n",
    "        if day.dayofweek < 5:\n",
    "            return self.daily_pattern_working\n",
    "        else:\n",
    "            return self.daily_pattern_weekend\n",
    "\n",
    "    \n",
    "score, costs = evaluate_model(WeeklyPatternModel(), pd.Timestamp('2016-11-11'))\n",
    "print('WeeklyPatternModel score: {:.2f}'.format(score))"
   ]
  }
 ],
 "metadata": {
  "anaconda-cloud": {},
  "kernelspec": {
   "display_name": "Python [default]",
   "language": "python",
   "name": "python3"
  },
  "language_info": {
   "codemirror_mode": {
    "name": "ipython",
    "version": 3
   },
   "file_extension": ".py",
   "mimetype": "text/x-python",
   "name": "python",
   "nbconvert_exporter": "python",
   "pygments_lexer": "ipython3",
   "version": "3.5.2"
  }
 },
 "nbformat": 4,
 "nbformat_minor": 2
}
