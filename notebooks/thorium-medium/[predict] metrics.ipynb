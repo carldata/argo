{
 "cells": [
  {
   "cell_type": "markdown",
   "metadata": {},
   "source": [
    "# Metrics for prediction model\n",
    "\n",
    "This notebook contains metric definition for Prediction model.\n",
    "Model score is calculated using the following formula:\n",
    "  * For each day in year 2017\n",
    "    * Build model based on data before given day\n",
    "    * Predict given day\n",
    "    * Calculate prediction error for given day\n",
    "  * Report 95th percentile as model score"
   ]
  },
  {
   "cell_type": "code",
   "execution_count": 2,
   "metadata": {
    "collapsed": true
   },
   "outputs": [],
   "source": [
    "import datetime\n",
    "import calendar\n",
    "import time\n",
    "import json\n",
    "import numpy as np\n",
    "import pandas as pd\n",
    "from sklearn import tree\n",
    "import matplotlib.pyplot as plt\n",
    "from matplotlib import rcParams\n",
    "rcParams['figure.figsize'] = 12, 4"
   ]
  },
  {
   "cell_type": "markdown",
   "metadata": {},
   "source": [
    "# Load project\n",
    "\n",
    "Load rainfall and flow data from the files and clean it by:\n",
    "  * Resampling to 5 minutes\n",
    "  * Slice to the common range\n",
    "  * Fill NaNs"
   ]
  },
  {
   "cell_type": "code",
   "execution_count": 3,
   "metadata": {},
   "outputs": [
    {
     "name": "stdout",
     "output_type": "stream",
     "text": [
      "                           flow  rainfall\n",
      "time                                     \n",
      "2015-06-01 14:15:00  115.559998       0.0\n",
      "2015-06-01 14:20:00  115.199997       0.0\n",
      "2015-06-01 14:25:00  112.209999       0.0\n",
      "2015-06-01 14:30:00  112.860001       0.0\n",
      "2015-06-01 14:35:00  113.349998       0.0\n",
      "                           flow  rainfall\n",
      "time                                     \n",
      "2017-11-10 14:20:00  107.830002       0.0\n",
      "2017-11-10 14:25:00  107.459999       0.0\n",
      "2017-11-10 14:30:00  106.919998       0.0\n",
      "2017-11-10 14:35:00  105.559998       0.0\n",
      "2017-11-10 14:40:00  104.940002       0.0\n"
     ]
    }
   ],
   "source": [
    "project_folder = '../../datasets/thorium-medium/'\n",
    "flow = pd.read_csv(project_folder + 'flow1.csv', parse_dates=['time'])\n",
    "flow = flow.set_index('time')['flow'].fillna(0)\n",
    "flow = flow.resample('5T').pad()\n",
    "rainfall = pd.read_csv(project_folder + 'rainfall1.csv', parse_dates=['time'])\n",
    "rainfall = rainfall.set_index('time')['rainfall'].fillna(0)\n",
    "rainfall = rainfall.resample('5T').pad()\n",
    "flow_rain = pd.concat([flow, rainfall], axis=1).dropna()\n",
    "print(flow_rain.head())\n",
    "print(flow_rain.tail())\n",
    "flow_rain = flow_rain['2015-06-02':'2017-11-09']\n",
    "flow = flow_rain['flow']\n",
    "rainfall = flow_rain['rainfall']"
   ]
  },
  {
   "cell_type": "markdown",
   "metadata": {},
   "source": [
    "## Prepare functions for calculating model score\n",
    "\n",
    "The basic prediction model uses daily pattern as a prediction"
   ]
  },
  {
   "cell_type": "code",
   "execution_count": 4,
   "metadata": {},
   "outputs": [
    {
     "name": "stdout",
     "output_type": "stream",
     "text": [
      "Error: 100.00%\n"
     ]
    }
   ],
   "source": [
    "class PredictionModel:\n",
    "\n",
    "    def fit(self, flow, rain):\n",
    "        pass\n",
    "        \n",
    "    def predict(self, day, rain):\n",
    "        return np.zeros(288)\n",
    "\n",
    "    \n",
    "def loss(y_hat, y):\n",
    "    \"\"\"\n",
    "    https://en.wikipedia.org/wiki/Mean_absolute_percentage_error\n",
    "    \"\"\"\n",
    "    return 100.0 * np.sum(np.abs((y-y_hat) / y)) / y.shape[0]\n",
    "\n",
    "\n",
    "def split_data(flow, split_day):\n",
    "    \"\"\"Get all data up to given day\"\"\"\n",
    "    end_day = split_day - pd.Timedelta('1 min')\n",
    "    return flow[:end_day]\n",
    "\n",
    "\n",
    "def evaluate_day(model, flow, rain, split_day):\n",
    "    \"\"\"Evaluate data for single day\"\"\"\n",
    "    xs = split_data(flow, split_day)\n",
    "    next_day = split_day + pd.Timedelta(1, 'D')\n",
    "    y = flow[next_day: next_day+pd.Timedelta('1439 min')]\n",
    "    model.fit(xs, rain)\n",
    "    y_hat = model.predict(next_day, rain)\n",
    "    return loss(y_hat, y)\n",
    "\n",
    "\n",
    "def evaluate_model(model, flow, rain, start_day):\n",
    "    \"\"\"\n",
    "    Evaluate model on all days starting from the split_day.\n",
    "    Returns 95th percentile error as model score\n",
    "    \"\"\"\n",
    "    last_day = flow.index[-1] - pd.Timedelta(1, 'D')\n",
    "    split_day = start_day\n",
    "    costs = []\n",
    "    while split_day < last_day:\n",
    "        cost = evaluate_day(model, flow, rain, split_day)\n",
    "        costs.append(cost)\n",
    "        split_day += pd.Timedelta(1, 'D')\n",
    "    return np.percentile(costs, 95), costs\n",
    "\n",
    "\n",
    "error = evaluate_day(PredictionModel(), flow, rainfall, pd.Timestamp('2016-11-10'))\n",
    "print('Error: {:.2f}%'.format(error))"
   ]
  },
  {
   "cell_type": "markdown",
   "metadata": {},
   "source": [
    "# Evaluate some models for year 2017\n",
    "\n",
    "## Mean model"
   ]
  },
  {
   "cell_type": "code",
   "execution_count": 5,
   "metadata": {},
   "outputs": [
    {
     "name": "stdout",
     "output_type": "stream",
     "text": [
      "MeanModel 95th percentile error: 22.69%\n",
      "Calculated in 0.232 seconds\n"
     ]
    }
   ],
   "source": [
    "class MeanModel:\n",
    "\n",
    "    def fit(self, flow, rain):\n",
    "        self.mean = np.mean(flow.values)\n",
    "        \n",
    "    def predict(self, day, rain):\n",
    "        return np.ones(288) * self.mean\n",
    "\n",
    "    \n",
    "start_time = time.time()\n",
    "score, costs = evaluate_model(MeanModel(), flow, rainfall, pd.Timestamp('2017-01-01'))\n",
    "print('MeanModel 95th percentile error: {:.2f}%'.format(score))\n",
    "print(\"Calculated in {:.3f} seconds\".format(time.time() - start_time))"
   ]
  },
  {
   "cell_type": "markdown",
   "metadata": {},
   "source": [
    "## Daily pattern model"
   ]
  },
  {
   "cell_type": "code",
   "execution_count": 5,
   "metadata": {},
   "outputs": [
    {
     "name": "stdout",
     "output_type": "stream",
     "text": [
      "DailyPatternModel 95th percentile error: 19.48%\n",
      "Calculated in 234.036 seconds\n"
     ]
    }
   ],
   "source": [
    "class DailyPatternModel:\n",
    "    \n",
    "    def fit(self, flow, rain):\n",
    "        \"\"\" Use daily pattern \"\"\"\n",
    "        df = flow.to_frame().reset_index()\n",
    "        self.daily_pattern = df.groupby(by=[df.time.map(lambda x : (x.hour, x.minute))]).flow.mean().values\n",
    "        \n",
    "    def predict(self, day, rain):\n",
    "        return self.daily_pattern\n",
    "    \n",
    "    \n",
    "start_time = time.time()    \n",
    "score, costs = evaluate_model(DailyPatternModel(), flow, rainfall, pd.Timestamp('2017-01-01'))\n",
    "print('DailyPatternModel 95th percentile error: {:.2f}%'.format(score))\n",
    "print(\"Calculated in {:.3f} seconds\".format(time.time() - start_time))"
   ]
  },
  {
   "cell_type": "markdown",
   "metadata": {},
   "source": [
    "## Last day model"
   ]
  },
  {
   "cell_type": "code",
   "execution_count": 6,
   "metadata": {},
   "outputs": [
    {
     "name": "stdout",
     "output_type": "stream",
     "text": [
      "LastDayModel 95th percentile error: 17.86%\n"
     ]
    }
   ],
   "source": [
    "class LastDayModel(PredictionModel):\n",
    "    \n",
    "    def fit(self, flow, rain):\n",
    "        self.y = flow.values[-288:]\n",
    "        \n",
    "    def predict(self, day, rain):\n",
    "        return self.y\n",
    "    \n",
    "score, costs = evaluate_model(LastDayModel(), flow, rainfall, pd.Timestamp('2017-01-01'))\n",
    "print('LastDayModel 95th percentile error: {:.2f}%'.format(score))    "
   ]
  },
  {
   "cell_type": "markdown",
   "metadata": {},
   "source": [
    "## Daily pattern for working and non working days"
   ]
  },
  {
   "cell_type": "code",
   "execution_count": 7,
   "metadata": {},
   "outputs": [
    {
     "name": "stdout",
     "output_type": "stream",
     "text": [
      "WeeklyPatternModel 95th percentile error: 19.67%\n"
     ]
    }
   ],
   "source": [
    "class WeeklyPatternModel(PredictionModel):\n",
    "    \n",
    "    def fit(self, flow, rain):\n",
    "        df = flow.to_frame().reset_index()\n",
    "        df_working = df[df.time.dt.dayofweek < 5]\n",
    "        df_weekend = df[df.time.dt.dayofweek > 4]\n",
    "        self.daily_pattern_working = df.groupby(by=[df_working.time.map(lambda x : (x.hour, x.minute))]).flow.mean().values\n",
    "        self.daily_pattern_weekend = df.groupby(by=[df_weekend.time.map(lambda x : (x.hour, x.minute))]).flow.mean().values\n",
    "        \n",
    "    def predict(self, day, rain):\n",
    "        if day.dayofweek < 5:\n",
    "            return self.daily_pattern_working\n",
    "        else:\n",
    "            return self.daily_pattern_weekend\n",
    "\n",
    "    \n",
    "score, costs = evaluate_model(WeeklyPatternModel(), flow, rainfall, pd.Timestamp('2017-01-01'))\n",
    "print('WeeklyPatternModel 95th percentile error: {:.2f}%'.format(score))    "
   ]
  }
 ],
 "metadata": {
  "anaconda-cloud": {},
  "kernelspec": {
   "display_name": "Python 3",
   "language": "python",
   "name": "python3"
  },
  "language_info": {
   "codemirror_mode": {
    "name": "ipython",
    "version": 3
   },
   "file_extension": ".py",
   "mimetype": "text/x-python",
   "name": "python",
   "nbconvert_exporter": "python",
   "pygments_lexer": "ipython3",
   "version": "3.6.3"
  }
 },
 "nbformat": 4,
 "nbformat_minor": 2
}
