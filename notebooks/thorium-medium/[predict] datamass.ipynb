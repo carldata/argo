{
 "cells": [
  {
   "cell_type": "markdown",
   "metadata": {},
   "source": [
    "# Replicate results of manual model\n",
    "\n",
    "One of the analysis is based on manual model. Since this analysis was done in R, this notebook tries to replicate it in Python"
   ]
  },
  {
   "cell_type": "code",
   "execution_count": 1,
   "metadata": {
    "collapsed": true
   },
   "outputs": [],
   "source": [
    "import datetime\n",
    "import calendar\n",
    "import time\n",
    "import json\n",
    "import numpy as np\n",
    "import pandas as pd\n",
    "from sklearn import tree\n",
    "import matplotlib.pyplot as plt\n",
    "from matplotlib import rcParams\n",
    "rcParams['figure.figsize'] = 12, 4"
   ]
  },
  {
   "cell_type": "markdown",
   "metadata": {},
   "source": [
    "# Load project\n",
    "\n",
    "Load rainfall and flow data from the files and clean it by:\n",
    "  * Resampling to 5 minutes\n",
    "  * Slice to the common range\n",
    "  * Fill NaNs"
   ]
  },
  {
   "cell_type": "code",
   "execution_count": 7,
   "metadata": {},
   "outputs": [
    {
     "name": "stdout",
     "output_type": "stream",
     "text": [
      "                           flow  rainfall\n",
      "time                                     \n",
      "2015-06-01 14:15:00  115.559998       0.0\n",
      "2015-06-01 14:20:00  115.199997       0.0\n",
      "2015-06-01 14:25:00  112.209999       0.0\n",
      "2015-06-01 14:30:00  112.860001       0.0\n",
      "2015-06-01 14:35:00  113.349998       0.0\n",
      "                           flow  rainfall\n",
      "time                                     \n",
      "2017-11-10 14:20:00  107.830002       0.0\n",
      "2017-11-10 14:25:00  107.459999       0.0\n",
      "2017-11-10 14:30:00  106.919998       0.0\n",
      "2017-11-10 14:35:00  105.559998       0.0\n",
      "2017-11-10 14:40:00  104.940002       0.0\n"
     ]
    }
   ],
   "source": [
    "project_folder = '../../datasets/thorium-medium/'\n",
    "flow = pd.read_csv(project_folder + 'flow1.csv', parse_dates=['time'])\n",
    "flow = flow.set_index('time')['flow'].fillna(0)\n",
    "flow = flow.resample('5T').pad()\n",
    "rainfall = pd.read_csv(project_folder + 'rainfall1.csv', parse_dates=['time'])\n",
    "rainfall = rainfall.set_index('time')['rainfall'].fillna(0)\n",
    "rainfall = rainfall.resample('5T').pad()\n",
    "flow_rain = pd.concat([flow, rainfall], axis=1).dropna()\n",
    "print(flow_rain.head())\n",
    "print(flow_rain.tail())\n",
    "flow_rain = flow_rain['2015-06-02':'2017-11-09']\n",
    "flow = flow_rain['flow']\n",
    "rainfall = flow_rain['rainfall']"
   ]
  },
  {
   "cell_type": "markdown",
   "metadata": {},
   "source": [
    "## Prepare functions for calculating model score\n",
    "\n",
    "The basic prediction model uses daily pattern as a prediction"
   ]
  },
  {
   "cell_type": "code",
   "execution_count": 3,
   "metadata": {},
   "outputs": [
    {
     "name": "stdout",
     "output_type": "stream",
     "text": [
      "Error: 100.00%\n"
     ]
    }
   ],
   "source": [
    "class PredictionModel:\n",
    "\n",
    "    def fit(self, flow, rain):\n",
    "        pass\n",
    "        \n",
    "    def predict(self, day, rain):\n",
    "        return np.zeros(288)\n",
    "\n",
    "    \n",
    "def loss(y_hat, y):\n",
    "    \"\"\"\n",
    "    https://en.wikipedia.org/wiki/Mean_absolute_percentage_error\n",
    "    \"\"\"\n",
    "    return 100.0 * np.sum(np.abs((y-y_hat) / y)) / y.shape[0]\n",
    "\n",
    "\n",
    "def split_data(flow, split_day):\n",
    "    \"\"\"Get all data up to given day\"\"\"\n",
    "    end_day = split_day - pd.Timedelta('1 min')\n",
    "    return flow[:end_day]\n",
    "\n",
    "\n",
    "def evaluate_day(model, flow, rain, day):\n",
    "    \"\"\"Evaluate data for single day\"\"\"\n",
    "    xs = split_data(flow, day)\n",
    "    y = flow[day: day+pd.Timedelta('1439 min')]\n",
    "    model.fit(xs, rain)\n",
    "    y_hat = model.predict(day, rain)\n",
    "    return loss(y_hat, y)\n",
    "\n",
    "\n",
    "def evaluate_model(model, flow, rain, start_day):\n",
    "    \"\"\"\n",
    "    Evaluate model on all days starting from the split_day.\n",
    "    Returns 95th percentile error as model score\n",
    "    \"\"\"\n",
    "    last_day = flow.index[-1] - pd.Timedelta(1, 'D')\n",
    "    split_day = start_day\n",
    "    costs = []\n",
    "    while split_day < last_day:\n",
    "        cost = evaluate_day(model, flow, rain, split_day)\n",
    "        costs.append(cost)\n",
    "        split_day += pd.Timedelta(1, 'D')\n",
    "    return np.percentile(costs, 95), costs\n",
    "\n",
    "\n",
    "error = evaluate_day(PredictionModel(), flow, rainfall, pd.Timestamp('2016-11-10'))\n",
    "print('Error: {:.2f}%'.format(error))"
   ]
  },
  {
   "cell_type": "markdown",
   "metadata": {},
   "source": [
    "# Evaluate models\n",
    "\n",
    "## Mean model based on all days"
   ]
  },
  {
   "cell_type": "code",
   "execution_count": 5,
   "metadata": {},
   "outputs": [
    {
     "name": "stdout",
     "output_type": "stream",
     "text": [
      "MeanModel 95th percentile error: 19.46%\n",
      "Calculated in 213.600 seconds\n"
     ]
    }
   ],
   "source": [
    "class MeanModel:\n",
    "    \n",
    "    def fit(self, flow, rain):\n",
    "        \"\"\" Use daily pattern \"\"\"\n",
    "        df = flow.to_frame().reset_index()\n",
    "        self.daily_pattern = df.groupby(by=[df.time.map(lambda x : (x.hour, x.minute))]).flow.mean().values\n",
    "        \n",
    "    def predict(self, day, rain):\n",
    "        return self.daily_pattern\n",
    "    \n",
    "    \n",
    "start_time = time.time()    \n",
    "score, costs = evaluate_model(MeanModel(), flow, rainfall, pd.Timestamp('2017-01-01'))\n",
    "print('MeanModel 95th percentile error: {:.2f}%'.format(score))\n",
    "print(\"Calculated in {:.3f} seconds\".format(time.time() - start_time))"
   ]
  },
  {
   "cell_type": "markdown",
   "metadata": {},
   "source": [
    "# Mean model based on dry days\n",
    "\n",
    "Here dry day is defined as day with 0 cummulative rain, during this day."
   ]
  },
  {
   "cell_type": "code",
   "execution_count": null,
   "metadata": {},
   "outputs": [],
   "source": [
    "class DryMeanModel:\n",
    "    \n",
    "    def fit(self, flow, rain):\n",
    "        \"\"\" Use daily pattern \"\"\"\n",
    "        df = flow.to_frame().reset_index()\n",
    "        self.daily_pattern = df.groupby(by=[df.time.map(lambda x : (x.hour, x.minute))]).flow.mean().values\n",
    "        \n",
    "    def predict(self, day, rain):\n",
    "        return self.daily_pattern\n",
    "    \n",
    "    \n",
    "start_time = time.time()    \n",
    "score, costs = evaluate_model(DryMeanModel(), flow, rainfall, pd.Timestamp('2017-01-01'))\n",
    "print('DryMeanModel 95th percentile error: {:.2f}%'.format(score))\n",
    "print(\"Calculated in {:.3f} seconds\".format(time.time() - start_time))"
   ]
  }
 ],
 "metadata": {
  "anaconda-cloud": {},
  "kernelspec": {
   "display_name": "Python [default]",
   "language": "python",
   "name": "python3"
  },
  "language_info": {
   "codemirror_mode": {
    "name": "ipython",
    "version": 3
   },
   "file_extension": ".py",
   "mimetype": "text/x-python",
   "name": "python",
   "nbconvert_exporter": "python",
   "pygments_lexer": "ipython3",
   "version": "3.5.2"
  }
 },
 "nbformat": 4,
 "nbformat_minor": 2
}
