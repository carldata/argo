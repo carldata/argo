{
 "cells": [
  {
   "cell_type": "markdown",
   "metadata": {},
   "source": [
    "# [WIP] Prediction model based on recurrention\n",
    "\n",
    "This model internally always predicts only next value. The prediction for the next 24h hours is achived by \n",
    "applying output from the first prediction as an input to the next prediction (together with other features)"
   ]
  },
  {
   "cell_type": "code",
   "execution_count": 1,
   "metadata": {
    "collapsed": true
   },
   "outputs": [],
   "source": [
    "import datetime\n",
    "import time\n",
    "import calendar\n",
    "import json\n",
    "import numpy as np\n",
    "import pandas as pd\n",
    "from sklearn import tree\n",
    "import matplotlib.pyplot as plt\n",
    "from matplotlib import rcParams\n",
    "rcParams['figure.figsize'] = 12, 4"
   ]
  },
  {
   "cell_type": "markdown",
   "metadata": {},
   "source": [
    "# Load project"
   ]
  },
  {
   "cell_type": "code",
   "execution_count": 2,
   "metadata": {},
   "outputs": [
    {
     "name": "stdout",
     "output_type": "stream",
     "text": [
      "{\n",
      "    \"rainfalls\": [\n",
      "        \"rainfall1\"\n",
      "    ],\n",
      "    \"split-date\": \"2017-01-01\",\n",
      "    \"end-date\": \"2017-10-01\",\n",
      "    \"start-date\": \"2015-06-02\",\n",
      "    \"flows\": [\n",
      "        \"flow1\"\n",
      "    ],\n",
      "    \"name\": \"thorium-medium\"\n",
      "}\n",
      "                           flow  rainfall\n",
      "time                                     \n",
      "2015-06-02 00:00:00  100.889999       0.0\n",
      "2015-06-02 00:05:00   99.839996       0.0\n",
      "2015-06-02 00:10:00   99.279999       0.0\n",
      "2015-06-02 00:15:00   98.139999       0.0\n",
      "2015-06-02 00:20:00   97.110001       0.0\n",
      "                           flow  rainfall\n",
      "time                                     \n",
      "2017-11-09 23:35:00  111.739998       0.0\n",
      "2017-11-09 23:40:00  110.949997       0.0\n",
      "2017-11-09 23:45:00  110.519997       0.0\n",
      "2017-11-09 23:50:00  109.190002       0.0\n",
      "2017-11-09 23:55:00  107.089996       0.0\n"
     ]
    }
   ],
   "source": [
    "project_folder = '../../datasets/thorium-medium/'\n",
    "with open(project_folder + 'project.json', 'r') as file:\n",
    "    project = json.load(file)\n",
    "print(json.dumps(project, indent=4))\n",
    "flow = pd.read_csv(project_folder + 'flow1.csv', parse_dates=['time'])\n",
    "flow = flow.set_index('time')['flow'].fillna(0)\n",
    "flow = flow.resample('5T').pad()\n",
    "rainfall = pd.read_csv(project_folder + 'rainfall1.csv', parse_dates=['time'])\n",
    "rainfall = rainfall.set_index('time')['rainfall'].fillna(0)\n",
    "rainfall = rainfall.resample('5T').pad()\n",
    "flow_rain = pd.concat([flow, rainfall], axis=1).dropna()\n",
    "flow_rain = flow_rain['2015-06-02':'2017-11-09']\n",
    "print(flow_rain.head())\n",
    "print(flow_rain.tail())\n",
    "flow = flow_rain['flow']\n",
    "rainfall = flow_rain['rainfall']"
   ]
  },
  {
   "cell_type": "markdown",
   "metadata": {},
   "source": [
    "## Helper functions\n",
    "\n",
    "Helper functions for building training and test sets and calculating score"
   ]
  },
  {
   "cell_type": "code",
   "execution_count": 3,
   "metadata": {},
   "outputs": [
    {
     "name": "stdout",
     "output_type": "stream",
     "text": [
      "LastDayModel score: 17.86% (expected: 17.86%)\n"
     ]
    }
   ],
   "source": [
    "class LastDayModel():\n",
    "    \"\"\"\n",
    "    Fast base model as a reference point\n",
    "    Expected error: 17.86%\n",
    "    \"\"\"\n",
    "    \n",
    "    def fit(self, flow, rain):\n",
    "        self.y = flow.values[-288:]\n",
    "        \n",
    "    def predict(self, day, rain, last_flow):\n",
    "        return self.y\n",
    "    \n",
    "    \n",
    "def loss(y_hat, y):\n",
    "    \"\"\"\n",
    "    https://en.wikipedia.org/wiki/Mean_absolute_percentage_error\n",
    "    \"\"\"\n",
    "    return 100.0 * np.sum(np.abs((y-y_hat) / y)) / y.shape[0]\n",
    "\n",
    "\n",
    "def split_data(flow, split_day):\n",
    "    \"\"\"Get all data up to given day\"\"\"\n",
    "    end_day = split_day - pd.Timedelta('1 min')\n",
    "    return flow[:end_day]\n",
    "\n",
    "\n",
    "def evaluate_day(model, flow, rain, split_day):\n",
    "    \"\"\"Evaluate data for single day\"\"\"\n",
    "    xs = split_data(flow, split_day)\n",
    "    next_day = split_day + pd.Timedelta(1, 'D')\n",
    "    y = flow[next_day: next_day+pd.Timedelta('1439 min')]\n",
    "    model.fit(xs, rain)\n",
    "    y_hat = model.predict(next_day, rain, xs[-1])\n",
    "    return loss(y_hat, y)\n",
    "\n",
    "\n",
    "def evaluate_model(model, flow, rain, start_day):\n",
    "    \"\"\"\n",
    "    Evaluate model on all days starting from split_day.\n",
    "    Returns 90th percentile error as model score\n",
    "    \"\"\"\n",
    "    last_day = flow.index[-1] - pd.Timedelta(1, 'D')\n",
    "    split_day = start_day\n",
    "    costs = []\n",
    "    while split_day < last_day:\n",
    "        cost = evaluate_day(model, flow, rain, split_day)\n",
    "        costs.append(cost)\n",
    "        split_day += pd.Timedelta(1, 'D')\n",
    "    return np.percentile(costs, 95), costs\n",
    "\n",
    "score, costs = evaluate_model(LastDayModel(), flow, rainfall, pd.Timestamp('2017-01-01'))\n",
    "print('LastDayModel score: {:.2f}% (expected: 17.86%)'.format(score))"
   ]
  },
  {
   "cell_type": "markdown",
   "metadata": {},
   "source": [
    "# Extract features\n",
    "\n",
    "Extract the following features:\n",
    "\n",
    "  * Minutes of the day\n",
    "  * Previous flow value\n",
    "  * Total precipitation in the last N hours"
   ]
  },
  {
   "cell_type": "code",
   "execution_count": 4,
   "metadata": {},
   "outputs": [
    {
     "name": "stdout",
     "output_type": "stream",
     "text": [
      "        minutes  last_flow     last_rain\n",
      "166747     1415  99.080002 -1.865175e-14\n",
      "166748     1420  98.650002 -1.865175e-14\n",
      "166749     1425  98.199997 -1.865175e-14\n",
      "166750     1430  97.650002 -1.865175e-14\n",
      "166751     1435  97.019997 -1.865175e-14\n",
      "166747    98.650002\n",
      "166748    98.199997\n",
      "166749    97.650002\n",
      "166750    97.019997\n",
      "166751    96.860001\n",
      "Name: flow, dtype: float64\n"
     ]
    }
   ],
   "source": [
    "def encode_time(xs):\n",
    "    \"\"\"\n",
    "    Encode time as Int value\n",
    "    Params:\n",
    "      times - pd.Series with Timestamp\n",
    "    Return:\n",
    "      pd.Series with encoded time\n",
    "    \"\"\"\n",
    "    return xs.map(lambda x: x.hour*60+x.minute)\n",
    "\n",
    "\n",
    "def encode_features(flow, rain, last_rain_window = 1):\n",
    "    \"\"\"\n",
    "    Create feature vector based on \n",
    "    Return feature and expected values\n",
    "    \"\"\"\n",
    "    df = pd.concat([flow, rain], axis=1).reset_index()\n",
    "    df['last_rain'] = df.rainfall.rolling(last_rain_window*12).sum()\n",
    "    df['minutes'] = encode_time(df.time)\n",
    "    df['last_flow'] = df.flow.shift()\n",
    "    df = df.dropna()\n",
    "    return (df[['minutes', 'last_flow', 'last_rain']], df.flow)\n",
    "\n",
    "\n",
    "def prepare_prediction_features(day, rain, last_rain_window = 1):\n",
    "    last_rain = rain.rolling(last_rain_window*12).sum()\n",
    "    ts = pd.date_range(day, periods=288, freq='5T')\n",
    "    minutes = pd.Series(data=encode_time(ts), index=ts)\n",
    "    df = pd.concat([minutes, last_rain], axis=1).dropna()\n",
    "    return df\n",
    "\n",
    "X, y = encode_features(flow[:'2016-12-31'], rainfall[:'2016-12-31'])\n",
    "print(X.tail())\n",
    "print(y.tail())"
   ]
  },
  {
   "cell_type": "markdown",
   "metadata": {},
   "source": [
    "# Models"
   ]
  },
  {
   "cell_type": "markdown",
   "metadata": {},
   "source": [
    "## Linear regression\n",
    "\n",
    "As a baseline lets try Linear Model"
   ]
  },
  {
   "cell_type": "code",
   "execution_count": 17,
   "metadata": {},
   "outputs": [
    {
     "name": "stdout",
     "output_type": "stream",
     "text": [
      "LinearModel score: 21.71%\n",
      "Calculated in 304.371 seconds\n",
      "Model coef: [ -9.37087226e-05   9.96541233e-01   7.65309783e-02], intercept: 0.41214071862701473\n"
     ]
    }
   ],
   "source": [
    "from sklearn.linear_model import LinearRegression\n",
    "\n",
    "class LinearModel:\n",
    "    \n",
    "    def __init__(self, rain_window_size=1):\n",
    "        self.rain_window_size = rain_window_size\n",
    "        self.clf = LinearRegression()\n",
    "    \n",
    "    def fit(self, flow, rain):\n",
    "        X, y = encode_features(flow, rain)\n",
    "        self.clf.fit(X.values, y.values)\n",
    "        \n",
    "    def predict(self, day, rain, last_flow):\n",
    "        base_features = prepare_prediction_features(day, rain).values\n",
    "        predictions = []\n",
    "        flow = last_flow\n",
    "        for row in base_features:\n",
    "            feature = np.array([[row[0], flow, row[1]]])\n",
    "            pred = self.clf.predict(feature)[0]\n",
    "            predictions.append(pred)\n",
    "            flow = pred\n",
    "        return np.array(predictions)\n",
    "\n",
    "start_time = time.time()\n",
    "model = LinearModel()\n",
    "score, costs = evaluate_model(model, flow_rain.flow, flow_rain.rainfall, pd.Timestamp('2017-01-01'))\n",
    "print('LinearModel score: {:.2f}%'.format(score))\n",
    "print(\"Calculated in {:.3f} seconds\".format(time.time() - start_time))\n",
    "print('Model coef: {}, intercept: {}'.format(model.clf.coef_, model.clf.intercept_))"
   ]
  },
  {
   "cell_type": "markdown",
   "metadata": {},
   "source": [
    "## Decision Tree Regressor\n",
    "\n",
    "First non linear model. Should improve on linear model"
   ]
  },
  {
   "cell_type": "code",
   "execution_count": 10,
   "metadata": {},
   "outputs": [
    {
     "name": "stdout",
     "output_type": "stream",
     "text": [
      "DTModel 2h score: 18.10%\n",
      "Calculated in 567.181 seconds\n"
     ]
    }
   ],
   "source": [
    "from sklearn import tree\n",
    "\n",
    "class DTModel(LinearModel):\n",
    "    \n",
    "    def __init__(self):\n",
    "        self.clf = tree.DecisionTreeRegressor()\n",
    "\n",
    "\n",
    "start_time = time.time()\n",
    "model = DTModel()\n",
    "score, costs = evaluate_model(model, flow_rain.flow, flow_rain.rainfall, pd.Timestamp('2017-01-01'))\n",
    "print('DTModel 2h score: {:.2f}%'.format(score))\n",
    "print(\"Calculated in {:.3f} seconds\".format(time.time() - start_time))\n",
    "model.clf.feature_importances_"
   ]
  },
  {
   "cell_type": "markdown",
   "metadata": {},
   "source": [
    "## XGBoost"
   ]
  },
  {
   "cell_type": "code",
   "execution_count": 27,
   "metadata": {},
   "outputs": [
    {
     "name": "stdout",
     "output_type": "stream",
     "text": [
      "XGBoostModel 2h score: 17.36\n",
      "Calculated in 871.612 seconds\n"
     ]
    }
   ],
   "source": [
    "import xgboost as xg\n",
    "\n",
    "class XGBoostModel(LinearModel):\n",
    "    \n",
    "    def __init__(self, rain_window_size=2):\n",
    "        self.rain_window_size = rain_window_size\n",
    "        self.clf = xg.XGBRegressor()\n",
    "    \n",
    "\n",
    "start_time = time.time()\n",
    "score, costs = evaluate_model(XGBoostModel(2), flow_rain.flow, flow_rain.rainfall, pd.Timestamp('2017-01-01'))\n",
    "print('XGBoostModel 2h score: {:.2f}'.format(score))\n",
    "print(\"Calculated in {:.3f} seconds\".format(time.time() - start_time))"
   ]
  }
 ],
 "metadata": {
  "anaconda-cloud": {},
  "kernelspec": {
   "display_name": "Python 3",
   "language": "python",
   "name": "python3"
  },
  "language_info": {
   "codemirror_mode": {
    "name": "ipython",
    "version": 3
   },
   "file_extension": ".py",
   "mimetype": "text/x-python",
   "name": "python",
   "nbconvert_exporter": "python",
   "pygments_lexer": "ipython3",
   "version": "3.6.3"
  }
 },
 "nbformat": 4,
 "nbformat_minor": 2
}
