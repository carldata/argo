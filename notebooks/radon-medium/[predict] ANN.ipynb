{
 "cells": [
  {
   "cell_type": "markdown",
   "metadata": {},
   "source": [
    "# Model based on ANN\n",
    "\n",
    "This notebook explores ANN with 1h resolution of data. \n",
    "\n",
    "Model is trained on all data before 2017 and then used to predict days in 2017. \n",
    "ANN trains too slow to train it for each day of 2017 from scratch."
   ]
  },
  {
   "cell_type": "code",
   "execution_count": 1,
   "metadata": {
    "collapsed": true
   },
   "outputs": [
    {
     "name": "stderr",
     "output_type": "stream",
     "text": [
      "Using TensorFlow backend.\n"
     ]
    }
   ],
   "source": [
    "import datetime\n",
    "import calendar\n",
    "import time\n",
    "import json\n",
    "import numpy as np\n",
    "import pandas as pd\n",
    "from keras.models import Sequential\n",
    "from keras.layers import Embedding, SimpleRNN, LSTM\n",
    "import matplotlib.pyplot as plt\n",
    "from matplotlib import rcParams\n",
    "rcParams['figure.figsize'] = 12, 4"
   ]
  },
  {
   "cell_type": "markdown",
   "metadata": {},
   "source": [
    "# Load project\n",
    "\n",
    "Load rainfall and flow data from the files and clean it by:\n",
    "  * Resample to 1 hour\n",
    "  * Slice to the common range (Rainfall data is only up to 2017-12-01\n",
    "  * Fill NaNs"
   ]
  },
  {
   "cell_type": "code",
   "execution_count": 2,
   "metadata": {},
   "outputs": [
    {
     "name": "stdout",
     "output_type": "stream",
     "text": [
      "                          flow  rainfall  hour\n",
      "time                                          \n",
      "2015-01-01 00:00:00  76.796188       0.0     0\n",
      "2015-01-01 01:00:00  71.892892       0.0     1\n",
      "2015-01-01 02:00:00  63.906876       0.0     2\n",
      "2015-01-01 03:00:00  60.286973       0.0     3\n",
      "2015-01-01 04:00:00  57.049687       0.0     4\n",
      "                          flow  rainfall  hour\n",
      "time                                          \n",
      "2017-12-01 19:00:00  79.317773       0.0    19\n",
      "2017-12-01 20:00:00  79.206970       0.0    20\n",
      "2017-12-01 21:00:00  79.096870       0.0    21\n",
      "2017-12-01 22:00:00  80.328204       0.0    22\n",
      "2017-12-01 23:00:00  77.861051       0.0    23\n"
     ]
    }
   ],
   "source": [
    "PROJECT_FOLDER = '../../datasets/radon-medium/'\n",
    "\n",
    "flow = pd.read_csv(PROJECT_FOLDER + 'flow1.csv', parse_dates=['time'])\n",
    "flow = flow.set_index('time').flow\n",
    "flow = flow.resample('1H').mean()\n",
    "\n",
    "rainfall = pd.read_csv(PROJECT_FOLDER + 'rainfall1.csv', parse_dates=['time'])\n",
    "rainfall = rainfall.set_index('time').rainfall\n",
    "rainfall = rainfall.resample('1H').sum()\n",
    "\n",
    "data_frame = pd.concat([flow, rainfall], axis=1).fillna(0)\n",
    "data_frame['hour'] = data_frame.index.map(lambda x: x.hour)\n",
    "data_frame = data_frame['2015-01-01': '2017-12-01']\n",
    "print(data_frame.head())\n",
    "print(data_frame.tail())"
   ]
  },
  {
   "cell_type": "markdown",
   "metadata": {},
   "source": [
    "# Prepare dataset\n",
    "\n",
    "For ANN we will create the following dataset:\n",
    "```\n",
    "(hour, previous_flow, precipitation, target_flow)\n",
    "```"
   ]
  },
  {
   "cell_type": "code",
   "execution_count": 11,
   "metadata": {},
   "outputs": [
    {
     "name": "stdout",
     "output_type": "stream",
     "text": [
      "                     hour  rainfall  last_flow\n",
      "time                                          \n",
      "2015-01-01 01:00:00     1       0.0  76.796188\n",
      "2015-01-01 02:00:00     2       0.0  71.892892\n",
      "2015-01-01 03:00:00     3       0.0  63.906876\n",
      "2015-01-01 04:00:00     4       0.0  60.286973\n",
      "2015-01-01 05:00:00     5       0.0  57.049687\n",
      "time\n",
      "2015-01-01 01:00:00    71.892892\n",
      "2015-01-01 02:00:00    63.906876\n",
      "2015-01-01 03:00:00    60.286973\n",
      "2015-01-01 04:00:00    57.049687\n",
      "2015-01-01 05:00:00    52.906274\n",
      "Freq: H, Name: flow, dtype: float64\n"
     ]
    }
   ],
   "source": [
    "X = data_frame[['hour', 'rainfall']]\n",
    "X['last_flow'] = data_frame.flow.shift()\n",
    "X = X[1:]\n",
    "print(X.head())\n",
    "y = data_frame.flow[1:]\n",
    "print(y.head())"
   ]
  }
 ],
 "metadata": {
  "anaconda-cloud": {},
  "kernelspec": {
   "display_name": "Python [default]",
   "language": "python",
   "name": "python3"
  },
  "language_info": {
   "codemirror_mode": {
    "name": "ipython",
    "version": 3
   },
   "file_extension": ".py",
   "mimetype": "text/x-python",
   "name": "python",
   "nbconvert_exporter": "python",
   "pygments_lexer": "ipython3",
   "version": "3.5.2"
  }
 },
 "nbformat": 4,
 "nbformat_minor": 2
}
