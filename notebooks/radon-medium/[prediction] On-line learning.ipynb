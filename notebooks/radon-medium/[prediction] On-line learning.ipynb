{
 "cells": [
  {
   "cell_type": "markdown",
   "metadata": {},
   "source": [
    "# Online prediction for radon-medium\n",
    "\n",
    "In online mode, the model is learning as soon as a new data arrives.\n",
    "It means that when we want our prediction we don't need to provide feature vector, \n",
    "since all data was already processed by the model.\n",
    "\n",
    "Explore the following models:\n",
    "\n",
    "  * DailyPattern - Calculate daily pattern from historical data. Use it as next day prediction. Use all days\n",
    "  * Explore flow - rainfall correlation\n",
    "  * RainfallModel - Model which uses rainfall data (with forecast)"
   ]
  },
  {
   "cell_type": "code",
   "execution_count": 2,
   "metadata": {
    "collapsed": true
   },
   "outputs": [],
   "source": [
    "import datetime\n",
    "import calendar\n",
    "import json\n",
    "import numpy as np\n",
    "import pandas as pd\n",
    "import matplotlib.pyplot as plt\n",
    "from matplotlib import rcParams\n",
    "rcParams['figure.figsize'] = 12, 4"
   ]
  },
  {
   "cell_type": "markdown",
   "metadata": {},
   "source": [
    "# Load project"
   ]
  },
  {
   "cell_type": "code",
   "execution_count": 8,
   "metadata": {},
   "outputs": [
    {
     "name": "stdout",
     "output_type": "stream",
     "text": [
      "Project info:\n",
      "  Name      : radon-medium\n",
      "  Start date: 2014-11-01\n",
      "  Split date: 2016-11-01\n",
      "  End date  : 2017-11-01\n",
      "\n",
      "Flow1\n",
      "time\n",
      "2014-11-01 00:00:00    87.804360\n",
      "2014-11-01 00:05:00    87.682940\n",
      "2014-11-01 00:10:00    88.550255\n",
      "2014-11-01 00:15:00    89.575424\n",
      "2014-11-01 00:20:00    89.338270\n",
      "Freq: 5T, Name: flow, dtype: float64\n",
      "\n",
      "Rainfall1\n",
      "time\n",
      "2014-11-01 00:00:00    0.2\n",
      "2014-11-01 00:05:00    0.0\n",
      "2014-11-01 00:10:00    0.0\n",
      "2014-11-01 00:15:00    0.4\n",
      "2014-11-01 00:20:00    0.0\n",
      "Freq: 5T, Name: rainfall, dtype: float64\n"
     ]
    }
   ],
   "source": [
    "project_folder = '../../datasets/radon-medium/'\n",
    "with open(project_folder + 'project.json', 'r') as file:\n",
    "    project = json.load(file)\n",
    "print('Project info:')\n",
    "print('  Name      : {:}'.format(project['name']))\n",
    "print('  Start date: {:}'.format(project['start-date']))\n",
    "print('  Split date: {:}'.format(project['split-date']))\n",
    "print('  End date  : {:}'.format(project['end-date']))\n",
    "print('')\n",
    "\n",
    "print('Flow1')\n",
    "flow = pd.read_csv(project_folder + 'flow1.csv', parse_dates=['time'])\n",
    "flow = flow.set_index('time')['flow'].fillna(0)\n",
    "flow = flow.resample('5T').pad()\n",
    "flow = flow[project['start-date']: project['end-date']]\n",
    "print(flow.head())\n",
    "print('')\n",
    "\n",
    "print('Rainfall1')\n",
    "rainfall = pd.read_csv(project_folder + 'rainfall1.csv', parse_dates=['time'])\n",
    "rainfall = rainfall.set_index('time')['rainfall'].fillna(0)\n",
    "rainfall = rainfall.resample('5T').pad()\n",
    "rainfall = rainfall[project['start-date']: project['end-date']]\n",
    "print(rainfall.head())"
   ]
  },
  {
   "cell_type": "markdown",
   "metadata": {},
   "source": [
    "## Helper functions\n",
    "\n",
    "Helper functions for building training and test sets and calculating score"
   ]
  },
  {
   "cell_type": "code",
   "execution_count": 13,
   "metadata": {},
   "outputs": [
    {
     "name": "stdout",
     "output_type": "stream",
     "text": [
      "time\n",
      "2016-11-09 23:35:00    77.777820\n",
      "2016-11-09 23:40:00    77.021540\n",
      "2016-11-09 23:45:00    76.518930\n",
      "2016-11-09 23:50:00    76.294914\n",
      "2016-11-09 23:55:00    74.822395\n",
      "Freq: 5T, Name: flow, dtype: float64\n"
     ]
    }
   ],
   "source": [
    "class PredictionModel:\n",
    "    \n",
    "    def fit(self, fs, rs):\n",
    "        pass\n",
    "        \n",
    "    def predict(self, forecast):\n",
    "        pass\n",
    "\n",
    "    \n",
    "def mae(y_hat, y):\n",
    "    \"\"\"\n",
    "    Calculate Mean Absolute Error \n",
    "    This metric is better here since serries have quite big outliers\n",
    "    \"\"\"\n",
    "    return np.sum(np.absolute(y_hat-y))/y.shape[0]\n",
    "\n",
    "\n",
    "def split_data(split_day):\n",
    "    \"\"\"Get all data up to a given day\"\"\"\n",
    "    end_day = split_day - pd.Timedelta('1 min')\n",
    "    return flow[:end_day], rainfall[:end_day]\n",
    "\n",
    "\n",
    "def evaluate_day(model, split_day):\n",
    "    \"\"\"Evaluate data for single day\"\"\"\n",
    "    fs, rs = split_data(split_day)\n",
    "    next_day = split_day + pd.Timedelta(1, 'D')\n",
    "    forecast = rainfall[next_day: next_day+pd.Timedelta('1439 min')]\n",
    "    y = flow[next_day: next_day+pd.Timedelta('1439 min')]\n",
    "    model.fit(xs)\n",
    "    y_hat = model.predict(next_day, forecast)\n",
    "    return mae(y_hat, y)\n",
    "\n",
    "\n",
    "def evaluate_model(model, start_day):\n",
    "    \"\"\"\n",
    "    Evaluate model on all days starting from split_day.\n",
    "    Returns 90th percentile error as model score\n",
    "    \"\"\"\n",
    "    last_day = pd.Timestamp(project['end-date'])\n",
    "    split_day = start_day\n",
    "    costs = []\n",
    "    while split_day <= last_day:\n",
    "        cost = evaluate_day(model, split_day)\n",
    "        costs.append(cost)\n",
    "        split_day += pd.Timedelta(1, 'D')\n",
    "    return np.percentile(costs, 90), costs\n",
    "\n",
    "\n",
    "xs, ys = split_data(pd.Timestamp('2016-11-10'))\n",
    "print(xs.tail())"
   ]
  },
  {
   "cell_type": "markdown",
   "metadata": {},
   "source": [
    "# Base Model\n",
    "\n",
    "This model is used as baseline metric. It is the best model which can be used when there is noi information about precipitation.\n",
    "\n",
    "We expect that later when we include information about rainfall our model we have better (lower) score."
   ]
  },
  {
   "cell_type": "markdown",
   "metadata": {},
   "source": [
    "## Daily Pattern model\n",
    "\n",
    "Create pattern of daily usage based on historical data. Use this pattern to predict next values\n",
    "\n",
    "(This can take up to 10 minutes to calculate)"
   ]
  },
  {
   "cell_type": "code",
   "execution_count": 15,
   "metadata": {},
   "outputs": [
    {
     "name": "stdout",
     "output_type": "stream",
     "text": [
      "DailyPatternModel score: 9.80\n"
     ]
    }
   ],
   "source": [
    "class DailyPatternModel(PredictionModel):\n",
    "    \n",
    "    def fit(self, xs):\n",
    "        df = flow.to_frame().reset_index()\n",
    "        self.daily_pattern = df.groupby(by=[df.time.map(lambda x : (x.hour, x.minute))]).flow.mean().values\n",
    "        \n",
    "    def predict(self, day, forecast):\n",
    "        return self.daily_pattern\n",
    "\n",
    "    \n",
    "score, costs = evaluate_model(DailyPatternModel(), pd.Timestamp('2016-11-11'))\n",
    "print('DailyPatternModel score: {:.2f}'.format(score))"
   ]
  },
  {
   "cell_type": "markdown",
   "metadata": {},
   "source": [
    "# Explore rainfall - flow correlation"
   ]
  },
  {
   "cell_type": "code",
   "execution_count": 23,
   "metadata": {},
   "outputs": [
    {
     "data": {
      "text/plain": [
       "time\n",
       "(0, 0)     69.869460\n",
       "(0, 5)     69.046260\n",
       "(0, 10)    68.252815\n",
       "(0, 15)    67.582794\n",
       "(0, 20)    66.578060\n",
       "Name: flow, dtype: float64"
      ]
     },
     "execution_count": 23,
     "metadata": {},
     "output_type": "execute_result"
    }
   ],
   "source": [
    "df = flow.to_frame().reset_index()\n",
    "daily_pattern = df.groupby(by=[df.time.map(lambda x : (x.hour, x.minute))]).flow.median()\n",
    "daily_pattern.head()\n",
    "\n",
    "# df.flow - daily_pattern\n",
    "# df.rainfall + rolling window n hours + sum\n",
    "# filter rolling > 1\n",
    "# plot"
   ]
  }
 ],
 "metadata": {
  "anaconda-cloud": {},
  "kernelspec": {
   "display_name": "Python 3",
   "language": "python",
   "name": "python3"
  },
  "language_info": {
   "codemirror_mode": {
    "name": "ipython",
    "version": 3
   },
   "file_extension": ".py",
   "mimetype": "text/x-python",
   "name": "python",
   "nbconvert_exporter": "python",
   "pygments_lexer": "ipython3",
   "version": "3.6.3"
  }
 },
 "nbformat": 4,
 "nbformat_minor": 2
}
