{
 "cells": [
  {
   "cell_type": "markdown",
   "metadata": {},
   "source": [
    "# Metrics for prediction model based on 1h resolution\n",
    "\n",
    "This notebook contains metric definition for Prediction model.\n",
    "Model score is calculated using the following formula:\n",
    "  * For each day in year 2017\n",
    "    * Build model based on data before given day\n",
    "    * Predict given day\n",
    "    * Calculate prediction error for given day\n",
    "  * Report 95th percentile as model score"
   ]
  },
  {
   "cell_type": "code",
   "execution_count": 1,
   "metadata": {
    "collapsed": true
   },
   "outputs": [],
   "source": [
    "import datetime\n",
    "import calendar\n",
    "import time\n",
    "import json\n",
    "import numpy as np\n",
    "import pandas as pd\n",
    "from sklearn import tree\n",
    "import matplotlib.pyplot as plt\n",
    "from matplotlib import rcParams\n",
    "rcParams['figure.figsize'] = 12, 4"
   ]
  },
  {
   "cell_type": "markdown",
   "metadata": {},
   "source": [
    "# Load project\n",
    "\n",
    "Load rainfall and flow data from the files and clean it by:\n",
    "  * Resampling to 5 minutes\n",
    "  * Slice to the common range\n",
    "  * Fill NaNs"
   ]
  },
  {
   "cell_type": "code",
   "execution_count": 17,
   "metadata": {},
   "outputs": [
    {
     "name": "stdout",
     "output_type": "stream",
     "text": [
      "flow        0\n",
      "rainfall    0\n",
      "day         0\n",
      "dtype: int64\n",
      "                          flow  rainfall         day\n",
      "time                                                \n",
      "2015-01-01 00:00:00  76.796188       0.0  2015-01-01\n",
      "2015-01-01 01:00:00  71.892892       0.0  2015-01-01\n",
      "2015-01-01 02:00:00  63.906876       0.0  2015-01-01\n",
      "2015-01-01 03:00:00  60.286973       0.0  2015-01-01\n",
      "2015-01-01 04:00:00  57.049687       0.0  2015-01-01\n",
      "                          flow  rainfall         day\n",
      "time                                                \n",
      "2018-07-05 19:00:00  96.729522       0.0  2018-07-05\n",
      "2018-07-05 20:00:00  99.925573       0.0  2018-07-05\n",
      "2018-07-05 21:00:00  98.718231       0.0  2018-07-05\n",
      "2018-07-05 22:00:00  87.898124       0.0  2018-07-05\n",
      "2018-07-05 23:00:00  78.218643       0.0  2018-07-05\n"
     ]
    }
   ],
   "source": [
    "PROJECT_FOLDER = '../../datasets/radon-medium/'\n",
    "\n",
    "flow = pd.read_csv(PROJECT_FOLDER + 'flow1.csv', parse_dates=['time'])\n",
    "flow = flow.set_index('time').flow\n",
    "flow = flow.resample('1H').mean()\n",
    "\n",
    "rainfall = pd.read_csv(PROJECT_FOLDER + 'rainfall1.csv', parse_dates=['time'])\n",
    "rainfall = rainfall.set_index('time').rainfall\n",
    "rainfall = rainfall.resample('1H').mean()\n",
    "\n",
    "data_frame = pd.concat([flow, rainfall], axis=1).fillna(0)\n",
    "data_frame['day'] = data_frame.index.map(lambda x: x.date())\n",
    "data_frame = data_frame['2015-01-01':'2018-07-05']\n",
    "print(data_frame.isna().sum())\n",
    "print(data_frame.head())\n",
    "print(data_frame.tail())"
   ]
  },
  {
   "cell_type": "markdown",
   "metadata": {},
   "source": [
    "## Prepare functions for calculating model score\n",
    "\n",
    "The basic prediction model uses daily pattern as a prediction"
   ]
  },
  {
   "cell_type": "code",
   "execution_count": 7,
   "metadata": {},
   "outputs": [
    {
     "name": "stdout",
     "output_type": "stream",
     "text": [
      "Error: 100.00%\n"
     ]
    }
   ],
   "source": [
    "class PredictionModel:\n",
    "\n",
    "    def fit(self, flow, rain):\n",
    "        pass\n",
    "        \n",
    "    def predict(self, day, rain):\n",
    "        return np.zeros(24)\n",
    "\n",
    "    \n",
    "def loss(y_hat, y):\n",
    "    \"\"\"\n",
    "    https://en.wikipedia.org/wiki/Mean_absolute_percentage_error\n",
    "    \"\"\"\n",
    "    return 100.0 * np.sum(np.abs((y-y_hat) / y)) / y.shape[0]\n",
    "\n",
    "\n",
    "def split_data(flow, split_day):\n",
    "    \"\"\"Get all data up to given day\"\"\"\n",
    "    end_day = split_day - pd.Timedelta('1 min')\n",
    "    return flow[:end_day]\n",
    "\n",
    "\n",
    "def evaluate_day(model, flow, rain, day):\n",
    "    \"\"\"Evaluate data for single day\"\"\"\n",
    "    xs = split_data(flow, day)\n",
    "    y = flow[day: day+pd.Timedelta('1439 min')]\n",
    "    model.fit(xs, rain)\n",
    "    y_hat = model.predict(day, rain)\n",
    "    return loss(y_hat, y)\n",
    "\n",
    "\n",
    "def evaluate_model(model, flow, rain, start_day):\n",
    "    \"\"\"\n",
    "    Evaluate model on all days starting from the split_day.\n",
    "    Returns 95th percentile error as model score\n",
    "    \"\"\"\n",
    "    last_day = flow.index[-1] - pd.Timedelta(1, 'D')\n",
    "    split_day = start_day\n",
    "    costs = []\n",
    "    while split_day < last_day:\n",
    "        cost = evaluate_day(model, flow, rain, split_day)\n",
    "        costs.append(cost)\n",
    "        split_day += pd.Timedelta(1, 'D')\n",
    "    return np.percentile(costs, 95), costs\n",
    "\n",
    "\n",
    "error = evaluate_day(PredictionModel(), flow, rainfall, pd.Timestamp('2017-11-10'))\n",
    "print('Error: {:.2f}%'.format(error))"
   ]
  },
  {
   "cell_type": "markdown",
   "metadata": {},
   "source": [
    "# Evaluate some models for year 2018\n",
    "\n",
    "## Mean model"
   ]
  },
  {
   "cell_type": "code",
   "execution_count": 11,
   "metadata": {},
   "outputs": [
    {
     "name": "stdout",
     "output_type": "stream",
     "text": [
      "[25.900446954988819, 30.411836955599597, 26.461917227185509, 23.55279902451991, 23.164975590813345, 25.284288141505595, 26.604942165581594, 20.451893151071868, 27.106310743228619, 25.293583263248532, 19.147795097162586, 22.001392678673685, 19.679562963156858, 19.652680813695564, 22.90471918438811, 21.642776302484478, 22.867567388889196, 25.755200238320668, 25.731344184368698, 25.702912914561072, 23.382277509904245, 29.45162393944592, 18.668897503136503, 25.410276475540176, 23.700306900123952, 24.993833029088687, 25.290636491411778, 25.77289586101676, 24.142529551898363, 23.595507883490438, 24.301100215621418, 23.462720444220796, 24.165113053655066, 24.886882204145099, 21.719576668470907, 24.162305594973066, 22.518966472397878, 22.501597078403261, 25.212658578925033, 20.835206754194783, 23.750465465208851, 24.039575866827846, 24.007983021102699, 23.957240757947719, 24.52859910231393, 28.771065131006992, 20.512880128790449, 22.410701238525267, 21.64838494845479, 26.118549325453078, 23.666087147625404, 23.393907516914169, 21.502594556102647, 21.088430714184472, 26.059413400685973, 24.577763991379257, 20.790234802240402, 24.250937496756947, 23.588043415643284, 24.349378798744045, 23.705972698246455, 24.762689678989272, 22.765803828910837, 20.840000802233384, 25.247806120863654, 23.172896944873532, 22.168801566146346, 22.130390863102104, 23.131984910835268, 19.487207247066593, 24.792064266628419, 21.249453576449195, 23.469695724437887, 23.464336835245362, 26.181590785197102, 21.668049504668858, 28.139272108276618, 24.468437114344397, 26.259600338303859, 23.638624576658316, 28.499545174988345, 23.80121355653576, 22.346124159821546, 25.841656458854203, 21.315683370070676, 21.385753659513583, 22.658443601902984, 26.093967618608417, 18.889336513916625, 22.219865196210133, 18.124385049537409, 22.985217974667023, 25.543384631553636, 17.243789498551912, 21.253437903603427, 21.731145148416488, 22.151033389983752, 22.414041620865152, 24.243909496781654, 25.177527063386449, 24.683858609458625, 27.448605013051374, inf, inf, inf, inf, inf, inf, 21.822340915186146, 23.509372193209163, 20.234808310256746, 18.27781737558475, 20.779651361647783, 19.69384084310796, 28.439456804687769, 20.804746588911232, 18.52520348384893, 18.120718523446758, 17.121271633056747, 21.866416053939783, 20.864269510852406, 23.016176547199553, 24.558978322700611, 21.951896299096379, 20.923006332288896, 21.28951695145258, 21.482775918877934, 22.702308613070525, 23.130983548493901, 22.296354217370077, 27.320361755054559, 21.144456854279394, 17.006140926290303, 23.233066898036935, inf, inf, 21.19224249649605, 18.290700055018732, 22.391900779260823, 19.255351633377053, 21.410710492930722, 22.348319963659733, 20.402447279884537, 23.194879612246641, 19.804285336210622, 21.914329958339405, 22.022794993236289, 23.772304483378932, 23.879922373924931, 23.118266849234534, 25.769690751839878, 22.594587732013313, 23.722999770079166, 24.579155937420108, 22.719250901954499, 20.866208319805686, 21.000854008743335, 22.211222888175239, 20.799902663616098, 23.367360146736445, 20.281095245803609, 20.997777986757388, 24.652259030433314, 25.720423390471936, 22.019804182930955, inf, inf, 22.889458422218908, 25.11223231633792, 22.007754791192713, 25.134857840377972, 22.939942019923489, 25.751478450607944, 18.296060603448861, 28.886299847288765, inf, inf, 25.368825253692904, 25.160137533878203, 25.04017323898945, 21.519343937137592, 19.55365688036542, 21.550269239026449, 25.361974818572889, 20.501442617174238]\n",
      "MeanModel 95th percentile error: inf%\n",
      "Calculated in 0.173 seconds\n"
     ]
    }
   ],
   "source": [
    "class MeanModel:\n",
    "\n",
    "    def fit(self, flow, rain):\n",
    "        self.mean = np.mean(flow.values)\n",
    "        \n",
    "    def predict(self, day, rain):\n",
    "        return np.ones(24) * self.mean\n",
    "\n",
    "    \n",
    "start_time = time.time()\n",
    "score, costs = evaluate_model(MeanModel(), data_frame.flow, data_frame.rainfall, pd.Timestamp('2018-01-01'))\n",
    "print(costs)\n",
    "print('MeanModel 95th percentile error: {:.2f}%'.format(score))\n",
    "print(\"Calculated in {:.3f} seconds\".format(time.time() - start_time))"
   ]
  },
  {
   "cell_type": "markdown",
   "metadata": {},
   "source": [
    "## Daily pattern model"
   ]
  },
  {
   "cell_type": "code",
   "execution_count": 5,
   "metadata": {},
   "outputs": [
    {
     "name": "stdout",
     "output_type": "stream",
     "text": [
      "DailyPatternModel 95th percentile error: 15.85%\n",
      "Calculated in 23.864 seconds\n"
     ]
    }
   ],
   "source": [
    "class DailyPatternModel:\n",
    "    \n",
    "    def fit(self, flow, rain):\n",
    "        \"\"\" Use daily pattern \"\"\"\n",
    "        df = flow.to_frame().reset_index()\n",
    "        self.daily_pattern = df.groupby(by=[df.time.map(lambda x : x.hour)]).flow.mean().values\n",
    "        \n",
    "    def predict(self, day, rain):\n",
    "        return self.daily_pattern\n",
    "    \n",
    "    \n",
    "start_time = time.time()    \n",
    "score, costs = evaluate_model(DailyPatternModel(), data_frame.flow, data_frame.rainfall, pd.Timestamp('2017-01-01'))\n",
    "print('DailyPatternModel 95th percentile error: {:.2f}%'.format(score))\n",
    "print(\"Calculated in {:.3f} seconds\".format(time.time() - start_time))"
   ]
  },
  {
   "cell_type": "markdown",
   "metadata": {},
   "source": [
    "## Last day model"
   ]
  },
  {
   "cell_type": "code",
   "execution_count": 6,
   "metadata": {},
   "outputs": [
    {
     "name": "stdout",
     "output_type": "stream",
     "text": [
      "LastDayModel 95th percentile error: 16.57%\n"
     ]
    }
   ],
   "source": [
    "class LastDayModel(PredictionModel):\n",
    "    \n",
    "    def fit(self, flow, rain):\n",
    "        self.y = flow.values[-24:]\n",
    "        \n",
    "    def predict(self, day, rain):\n",
    "        return self.y\n",
    "    \n",
    "score, costs = evaluate_model(LastDayModel(), data_frame.flow, data_frame.rainfall, pd.Timestamp('2017-01-01'))\n",
    "print('LastDayModel 95th percentile error: {:.2f}%'.format(score))    "
   ]
  }
 ],
 "metadata": {
  "anaconda-cloud": {},
  "kernelspec": {
   "display_name": "Python [default]",
   "language": "python",
   "name": "python3"
  },
  "language_info": {
   "codemirror_mode": {
    "name": "ipython",
    "version": 3
   },
   "file_extension": ".py",
   "mimetype": "text/x-python",
   "name": "python",
   "nbconvert_exporter": "python",
   "pygments_lexer": "ipython3",
   "version": "3.5.2"
  }
 },
 "nbformat": 4,
 "nbformat_minor": 2
}
