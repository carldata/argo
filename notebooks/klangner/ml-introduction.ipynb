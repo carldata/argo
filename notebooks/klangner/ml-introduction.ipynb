{
 "cells": [
  {
   "cell_type": "markdown",
   "metadata": {},
   "source": [
    "# Introduction to Machine Learning\n",
    "\n",
    "\n",
    "## What is ML\n",
    "\n",
    "**Definition**\n",
    "\n",
    "Tasks:\n",
    "  * Regression\n",
    "  * Classification\n",
    "  \n",
    "\n",
    "## ML types\n",
    "  \n",
    "  * Supervised learning\n",
    "  * Unsupervised learning\n",
    "  * Reinforcement learning\n",
    "  \n",
    "  \n",
    "## Workflow  \n",
    "\n",
    "  * Exploration\n",
    "  * Feature extraction\n",
    "  * Training model\n",
    "  * Making prediction\n",
    "  \n",
    "  \n",
    "## Python stack\n",
    "\n",
    "  * Anaconda\n",
    "  * SciPy\n",
    "    * Pandas\n",
    "    * Numpy\n",
    "  * TensorFlow\n",
    "  \n",
    "  \n",
    "## Time Series\n",
    "\n",
    "  * Train and Test set\n",
    "  * Feature extraction"
   ]
  }
 ],
 "metadata": {
  "kernelspec": {
   "display_name": "Python 3",
   "language": "python",
   "name": "python3"
  },
  "language_info": {
   "codemirror_mode": {
    "name": "ipython",
    "version": 3
   },
   "file_extension": ".py",
   "mimetype": "text/x-python",
   "name": "python",
   "nbconvert_exporter": "python",
   "pygments_lexer": "ipython3",
   "version": "3.6.3"
  }
 },
 "nbformat": 4,
 "nbformat_minor": 2
}
