{
 "cells": [
  {
   "cell_type": "markdown",
   "metadata": {},
   "source": [
    "# Metrics for prediction model based on 1h resolution"
   ]
  },
  {
   "cell_type": "code",
   "execution_count": 1,
   "metadata": {
    "collapsed": true
   },
   "outputs": [],
   "source": [
    "import datetime\n",
    "import calendar\n",
    "import time\n",
    "import json\n",
    "import numpy as np\n",
    "import pandas as pd\n",
    "from sklearn import tree\n",
    "import matplotlib.pyplot as plt\n",
    "from matplotlib import rcParams\n",
    "rcParams['figure.figsize'] = 12, 4"
   ]
  },
  {
   "cell_type": "markdown",
   "metadata": {},
   "source": [
    "# Load project\n",
    "\n",
    "Load rainfall and flow data from the files and clean it by:\n",
    "  * Resampling to 5 minutes\n",
    "  * Slice to the common range\n",
    "  * Remove NaNs"
   ]
  },
  {
   "cell_type": "code",
   "execution_count": 57,
   "metadata": {},
   "outputs": [
    {
     "name": "stdout",
     "output_type": "stream",
     "text": [
      "                           flow  hour         day\n",
      "time                                             \n",
      "2015-06-01 14:00:00  113.754443    14  2015-06-01\n",
      "2015-06-01 15:00:00  113.013333    15  2015-06-01\n",
      "2015-06-01 16:00:00  114.081666    16  2015-06-01\n",
      "2015-06-01 17:00:00  116.459167    17  2015-06-01\n",
      "2015-06-01 18:00:00  123.825000    18  2015-06-01\n",
      "                           flow  hour         day\n",
      "time                                             \n",
      "2017-11-10 10:00:00  120.655001    10  2017-11-10\n",
      "2017-11-10 11:00:00  115.167501    11  2017-11-10\n",
      "2017-11-10 12:00:00  111.554167    12  2017-11-10\n",
      "2017-11-10 13:00:00  109.408332    13  2017-11-10\n",
      "2017-11-10 14:00:00  107.245555    14  2017-11-10\n",
      "Number of NaNs: 138\n"
     ]
    }
   ],
   "source": [
    "PROJECT_FOLDER = '../../datasets/thorium-small/'\n",
    "\n",
    "flow = pd.read_csv(PROJECT_FOLDER + 'flow1.csv', parse_dates=['time'])\n",
    "data_frame = flow.set_index('time').resample('1H').mean()\n",
    "data_frame['hour'] = data_frame.index.map(lambda x: x.time().hour)\n",
    "data_frame['day'] = data_frame.index.map(lambda x: x.date())\n",
    "print(data_frame.head())\n",
    "print(data_frame.tail())\n",
    "print('Number of NaNs: {:}'.format(sum(data_frame.flow.isna())))\n",
    "data_frame = data_frame.dropna()"
   ]
  },
  {
   "cell_type": "markdown",
   "metadata": {},
   "source": [
    "## Prepare functions for calculating model score\n",
    "\n",
    "The basic prediction model uses daily pattern as a prediction"
   ]
  },
  {
   "cell_type": "code",
   "execution_count": 40,
   "metadata": {},
   "outputs": [
    {
     "name": "stdout",
     "output_type": "stream",
     "text": [
      "loss 50.0 == 50.0\n"
     ]
    }
   ],
   "source": [
    "def loss(y_hat, y):\n",
    "    \"\"\"\n",
    "    https://en.wikipedia.org/wiki/Mean_absolute_percentage_error\n",
    "    \"\"\"\n",
    "    return 100.0 * np.sum(np.abs((y-y_hat) / y)) / y.shape[0]\n",
    "\n",
    "\n",
    "err = loss(np.array([1,1,1]), np.array([2,2,2]))\n",
    "print(\"loss 50.0 == {}\".format(err))"
   ]
  },
  {
   "cell_type": "markdown",
   "metadata": {},
   "source": [
    "# Evaluate dataset\n",
    "\n",
    "\n",
    "Use all data before 2018-01-01 as training set and later data as test set"
   ]
  },
  {
   "cell_type": "code",
   "execution_count": 58,
   "metadata": {},
   "outputs": [
    {
     "name": "stdout",
     "output_type": "stream",
     "text": [
      "                           flow  hour         day\n",
      "time                                             \n",
      "2016-12-31 19:00:00  126.925001    19  2016-12-31\n",
      "2016-12-31 20:00:00  120.966667    20  2016-12-31\n",
      "2016-12-31 21:00:00  114.404166    21  2016-12-31\n",
      "2016-12-31 22:00:00  107.116667    22  2016-12-31\n",
      "2016-12-31 23:00:00   99.808334    23  2016-12-31\n",
      "                          flow  hour         day\n",
      "time                                            \n",
      "2017-01-01 00:00:00  94.330833     0  2017-01-01\n",
      "2017-01-01 01:00:00  91.927501     1  2017-01-01\n",
      "2017-01-01 02:00:00  90.722501     2  2017-01-01\n",
      "2017-01-01 03:00:00  87.402501     3  2017-01-01\n",
      "2017-01-01 04:00:00  81.485833     4  2017-01-01\n"
     ]
    }
   ],
   "source": [
    "train_data = data_frame[data_frame.day < datetime.date(2017,1,1)]\n",
    "test_data = data_frame[data_frame.day >= datetime.date(2017,1,1)]\n",
    "print(train_data.tail())\n",
    "print(test_data.head())\n",
    "x_train = train_data[['hour']]\n",
    "y_train = train_data['flow']\n",
    "x_test = test_data[['hour']]\n",
    "y_test = test_data['flow']"
   ]
  },
  {
   "cell_type": "markdown",
   "metadata": {},
   "source": [
    "# Test mean model"
   ]
  },
  {
   "cell_type": "code",
   "execution_count": 59,
   "metadata": {},
   "outputs": [
    {
     "data": {
      "text/plain": [
       "17.7263878591571"
      ]
     },
     "execution_count": 59,
     "metadata": {},
     "output_type": "execute_result"
    }
   ],
   "source": [
    "mu = y_train.mean()\n",
    "y_hat = np.ones(len(y_test)) * mu\n",
    "loss(y_hat, y_test)"
   ]
  },
  {
   "cell_type": "markdown",
   "metadata": {},
   "source": [
    "# Test TreeRegression"
   ]
  },
  {
   "cell_type": "code",
   "execution_count": 60,
   "metadata": {},
   "outputs": [
    {
     "data": {
      "text/plain": [
       "DecisionTreeRegressor(criterion='mse', max_depth=None, max_features=None,\n",
       "           max_leaf_nodes=None, min_impurity_decrease=0.0,\n",
       "           min_impurity_split=None, min_samples_leaf=1,\n",
       "           min_samples_split=2, min_weight_fraction_leaf=0.0,\n",
       "           presort=False, random_state=None, splitter='best')"
      ]
     },
     "execution_count": 60,
     "metadata": {},
     "output_type": "execute_result"
    }
   ],
   "source": [
    "from sklearn.tree import DecisionTreeRegressor\n",
    "\n",
    "regressor = DecisionTreeRegressor()\n",
    "regressor.fit(x_train, y_train)"
   ]
  },
  {
   "cell_type": "code",
   "execution_count": 61,
   "metadata": {},
   "outputs": [
    {
     "data": {
      "text/plain": [
       "8.8283833611034872"
      ]
     },
     "execution_count": 61,
     "metadata": {},
     "output_type": "execute_result"
    }
   ],
   "source": [
    "y_hat = regressor.predict(x_test)\n",
    "loss(y_hat, y_test)"
   ]
  }
 ],
 "metadata": {
  "anaconda-cloud": {},
  "kernelspec": {
   "display_name": "Python [default]",
   "language": "python",
   "name": "python3"
  },
  "language_info": {
   "codemirror_mode": {
    "name": "ipython",
    "version": 3
   },
   "file_extension": ".py",
   "mimetype": "text/x-python",
   "name": "python",
   "nbconvert_exporter": "python",
   "pygments_lexer": "ipython3",
   "version": "3.5.2"
  }
 },
 "nbformat": 4,
 "nbformat_minor": 2
}
