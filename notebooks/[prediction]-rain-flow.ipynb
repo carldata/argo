{
 "cells": [
  {
   "cell_type": "markdown",
   "metadata": {},
   "source": [
    "# Prediction metrics for Flow with Rain\n",
    "\n",
    "This notebook contains base model with metrics for measuring performence of the model.\n",
    "It is based on dataset with 2 series:\n",
    " * Water flow\n",
    " * Rainfall data\n",
    " \n",
    "This dataset has 36 months of data. \n",
    "\n",
    "Our model will predict flow for the next 24h. We will use all data up to the predicted day for training model, and then validate our prediction on the next day not seen in the trainning."
   ]
  },
  {
   "cell_type": "code",
   "execution_count": 6,
   "metadata": {
    "collapsed": true
   },
   "outputs": [],
   "source": [
    "import datetime\n",
    "import numpy as np\n",
    "import pandas as pd\n",
    "import matplotlib.pyplot as plt\n",
    "from matplotlib import rcParams\n",
    "rcParams['figure.figsize'] = 12, 4"
   ]
  },
  {
   "cell_type": "markdown",
   "metadata": {},
   "source": [
    "## Load dataset"
   ]
  },
  {
   "cell_type": "code",
   "execution_count": 5,
   "metadata": {},
   "outputs": [
    {
     "name": "stdout",
     "output_type": "stream",
     "text": [
      "<class 'pandas.core.frame.DataFrame'>\n",
      "RangeIndex: 315648 entries, 0 to 315647\n",
      "Data columns (total 3 columns):\n",
      "time        315648 non-null datetime64[ns]\n",
      "rainfall    310775 non-null float64\n",
      "flow        315609 non-null float64\n",
      "dtypes: datetime64[ns](1), float64(2)\n",
      "memory usage: 7.2 MB\n"
     ]
    }
   ],
   "source": [
    "dataset = pd.read_csv('../datasets/flow-rain.csv.gz', compression='gzip', parse_dates=['time'])\n",
    "dataset.info()"
   ]
  },
  {
   "cell_type": "markdown",
   "metadata": {},
   "source": [
    "## Helper functions"
   ]
  },
  {
   "cell_type": "code",
   "execution_count": 17,
   "metadata": {},
   "outputs": [
    {
     "data": {
      "text/html": [
       "<div>\n",
       "<style scoped>\n",
       "    .dataframe tbody tr th:only-of-type {\n",
       "        vertical-align: middle;\n",
       "    }\n",
       "\n",
       "    .dataframe tbody tr th {\n",
       "        vertical-align: top;\n",
       "    }\n",
       "\n",
       "    .dataframe thead th {\n",
       "        text-align: right;\n",
       "    }\n",
       "</style>\n",
       "<table border=\"1\" class=\"dataframe\">\n",
       "  <thead>\n",
       "    <tr style=\"text-align: right;\">\n",
       "      <th></th>\n",
       "      <th>time</th>\n",
       "      <th>rainfall</th>\n",
       "    </tr>\n",
       "  </thead>\n",
       "  <tbody>\n",
       "    <tr>\n",
       "      <th>50683</th>\n",
       "      <td>2015-04-25 23:35:00</td>\n",
       "      <td>0.0</td>\n",
       "    </tr>\n",
       "    <tr>\n",
       "      <th>50684</th>\n",
       "      <td>2015-04-25 23:40:00</td>\n",
       "      <td>0.0</td>\n",
       "    </tr>\n",
       "    <tr>\n",
       "      <th>50685</th>\n",
       "      <td>2015-04-25 23:45:00</td>\n",
       "      <td>0.0</td>\n",
       "    </tr>\n",
       "    <tr>\n",
       "      <th>50686</th>\n",
       "      <td>2015-04-25 23:50:00</td>\n",
       "      <td>0.0</td>\n",
       "    </tr>\n",
       "    <tr>\n",
       "      <th>50687</th>\n",
       "      <td>2015-04-25 23:55:00</td>\n",
       "      <td>0.0</td>\n",
       "    </tr>\n",
       "  </tbody>\n",
       "</table>\n",
       "</div>"
      ],
      "text/plain": [
       "                     time  rainfall\n",
       "50683 2015-04-25 23:35:00       0.0\n",
       "50684 2015-04-25 23:40:00       0.0\n",
       "50685 2015-04-25 23:45:00       0.0\n",
       "50686 2015-04-25 23:50:00       0.0\n",
       "50687 2015-04-25 23:55:00       0.0"
      ]
     },
     "execution_count": 17,
     "metadata": {},
     "output_type": "execute_result"
    }
   ],
   "source": [
    "def split(df, day):\n",
    "    \"\"\"\n",
    "    Split dataset into training set and test set on a given day.\n",
    "    All data before given day will be added to the training set, \n",
    "    while data from the given day will be used to create test set\n",
    "    \"\"\"\n",
    "    next_day = day + pd.Timedelta(1, 'D')\n",
    "    train = df[df.time < day]\n",
    "    test = df[(df.time >= day) & (df.time < next_day)]\n",
    "    X_train = train[['time', 'rainfall']]\n",
    "    Y_train = train['flow']\n",
    "    X_test = test[['time', 'rainfall']]\n",
    "    Y_test = test['flow']\n",
    "    return X_train, Y_train, X_test, Y_test\n",
    "\n",
    "X_train, Y_train, X_test, Y_test = split(dataset, pd.Timestamp('2015-04-25'))\n",
    "X_test.tail()"
   ]
  }
 ],
 "metadata": {
  "kernelspec": {
   "display_name": "Python 3",
   "language": "python",
   "name": "python3"
  },
  "language_info": {
   "codemirror_mode": {
    "name": "ipython",
    "version": 3
   },
   "file_extension": ".py",
   "mimetype": "text/x-python",
   "name": "python",
   "nbconvert_exporter": "python",
   "pygments_lexer": "ipython3",
   "version": "3.6.3"
  }
 },
 "nbformat": 4,
 "nbformat_minor": 2
}
