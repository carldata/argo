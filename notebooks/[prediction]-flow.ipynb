{
 "cells": [
  {
   "cell_type": "markdown",
   "metadata": {},
   "source": [
    "# Prediction metrics for Flow\n",
    "\n",
    "This notebook contains base model with metrics for data cosisting only of flow information.\n",
    "This flow is affected by rain but we don't have rain data here.\n",
    " \n",
    "This dataset has 36 months of data. \n",
    "\n",
    "Our model will predict flow for the next 24h. We will use all data up to the predicted day for training model, and then validate our prediction on the next day not seen in the trainning."
   ]
  },
  {
   "cell_type": "code",
   "execution_count": 1,
   "metadata": {
    "collapsed": true
   },
   "outputs": [],
   "source": [
    "import datetime\n",
    "import numpy as np\n",
    "import pandas as pd\n",
    "from sklearn.metrics import mean_squared_error\n",
    "import matplotlib.pyplot as plt\n",
    "from matplotlib import rcParams\n",
    "rcParams['figure.figsize'] = 12, 4"
   ]
  },
  {
   "cell_type": "markdown",
   "metadata": {},
   "source": [
    "## Load dataset"
   ]
  },
  {
   "cell_type": "code",
   "execution_count": 2,
   "metadata": {
    "collapsed": false
   },
   "outputs": [
    {
     "name": "stdout",
     "output_type": "stream",
     "text": [
      "<class 'pandas.core.frame.DataFrame'>\n",
      "RangeIndex: 438446 entries, 0 to 438445\n",
      "Data columns (total 2 columns):\n",
      "time    438446 non-null datetime64[ns]\n",
      "flow    438446 non-null float64\n",
      "dtypes: datetime64[ns](1), float64(1)\n",
      "memory usage: 6.7 MB\n",
      "None\n"
     ]
    },
    {
     "data": {
      "text/html": [
       "<div>\n",
       "<style scoped>\n",
       "    .dataframe tbody tr th:only-of-type {\n",
       "        vertical-align: middle;\n",
       "    }\n",
       "\n",
       "    .dataframe tbody tr th {\n",
       "        vertical-align: top;\n",
       "    }\n",
       "\n",
       "    .dataframe thead th {\n",
       "        text-align: right;\n",
       "    }\n",
       "</style>\n",
       "<table border=\"1\" class=\"dataframe\">\n",
       "  <thead>\n",
       "    <tr style=\"text-align: right;\">\n",
       "      <th></th>\n",
       "      <th>time</th>\n",
       "      <th>flow</th>\n",
       "    </tr>\n",
       "  </thead>\n",
       "  <tbody>\n",
       "    <tr>\n",
       "      <th>438441</th>\n",
       "      <td>2017-11-10 14:20:00</td>\n",
       "      <td>90.297165</td>\n",
       "    </tr>\n",
       "    <tr>\n",
       "      <th>438442</th>\n",
       "      <td>2017-11-10 14:25:00</td>\n",
       "      <td>90.177690</td>\n",
       "    </tr>\n",
       "    <tr>\n",
       "      <th>438443</th>\n",
       "      <td>2017-11-10 14:30:00</td>\n",
       "      <td>90.526990</td>\n",
       "    </tr>\n",
       "    <tr>\n",
       "      <th>438444</th>\n",
       "      <td>2017-11-10 14:35:00</td>\n",
       "      <td>91.277840</td>\n",
       "    </tr>\n",
       "    <tr>\n",
       "      <th>438445</th>\n",
       "      <td>2017-11-10 14:40:00</td>\n",
       "      <td>92.041970</td>\n",
       "    </tr>\n",
       "  </tbody>\n",
       "</table>\n",
       "</div>"
      ],
      "text/plain": [
       "                      time       flow\n",
       "438441 2017-11-10 14:20:00  90.297165\n",
       "438442 2017-11-10 14:25:00  90.177690\n",
       "438443 2017-11-10 14:30:00  90.526990\n",
       "438444 2017-11-10 14:35:00  91.277840\n",
       "438445 2017-11-10 14:40:00  92.041970"
      ]
     },
     "execution_count": 2,
     "metadata": {},
     "output_type": "execute_result"
    }
   ],
   "source": [
    "dataset = pd.read_csv('../datasets/flow.csv.gz', compression='gzip', parse_dates=['time'])\n",
    "print(dataset.info())\n",
    "dataset.tail()"
   ]
  },
  {
   "cell_type": "markdown",
   "metadata": {},
   "source": [
    "## Helper functions"
   ]
  },
  {
   "cell_type": "code",
   "execution_count": 3,
   "metadata": {
    "collapsed": false
   },
   "outputs": [
    {
     "name": "stdout",
     "output_type": "stream",
     "text": [
      "0.0\n"
     ]
    },
    {
     "data": {
      "text/html": [
       "<div>\n",
       "<style scoped>\n",
       "    .dataframe tbody tr th:only-of-type {\n",
       "        vertical-align: middle;\n",
       "    }\n",
       "\n",
       "    .dataframe tbody tr th {\n",
       "        vertical-align: top;\n",
       "    }\n",
       "\n",
       "    .dataframe thead th {\n",
       "        text-align: right;\n",
       "    }\n",
       "</style>\n",
       "<table border=\"1\" class=\"dataframe\">\n",
       "  <thead>\n",
       "    <tr style=\"text-align: right;\">\n",
       "      <th></th>\n",
       "      <th>time</th>\n",
       "    </tr>\n",
       "  </thead>\n",
       "  <tbody>\n",
       "    <tr>\n",
       "      <th>170463</th>\n",
       "      <td>2015-04-24 23:35:00</td>\n",
       "    </tr>\n",
       "    <tr>\n",
       "      <th>170464</th>\n",
       "      <td>2015-04-24 23:40:00</td>\n",
       "    </tr>\n",
       "    <tr>\n",
       "      <th>170465</th>\n",
       "      <td>2015-04-24 23:45:00</td>\n",
       "    </tr>\n",
       "    <tr>\n",
       "      <th>170466</th>\n",
       "      <td>2015-04-24 23:50:00</td>\n",
       "    </tr>\n",
       "    <tr>\n",
       "      <th>170467</th>\n",
       "      <td>2015-04-24 23:55:00</td>\n",
       "    </tr>\n",
       "  </tbody>\n",
       "</table>\n",
       "</div>"
      ],
      "text/plain": [
       "                      time\n",
       "170463 2015-04-24 23:35:00\n",
       "170464 2015-04-24 23:40:00\n",
       "170465 2015-04-24 23:45:00\n",
       "170466 2015-04-24 23:50:00\n",
       "170467 2015-04-24 23:55:00"
      ]
     },
     "execution_count": 3,
     "metadata": {},
     "output_type": "execute_result"
    }
   ],
   "source": [
    "def split(df, day):\n",
    "    \"\"\"\n",
    "    Split dataset into training set and test set on a given day.\n",
    "    All data before given day will be added to the training set, \n",
    "    while data from the given day will be used to create test set\n",
    "    \"\"\"\n",
    "    next_day = day + pd.Timedelta(1, 'D')\n",
    "    train = df[df.time < day]\n",
    "    test = df[(df.time >= day) & (df.time < next_day)]\n",
    "    X_train = train[['time']]\n",
    "    Y_train = train['flow']\n",
    "    X_test = test[['time']]\n",
    "    Y_test = test['flow']\n",
    "    return X_train, Y_train, X_test, Y_test\n",
    "\n",
    "\n",
    "def rmse(y_hat, y):\n",
    "    \"\"\"\n",
    "    Calculate Root Mean Square Error\n",
    "    \"\"\"\n",
    "    return np.sqrt(mean_squared_error(y_hat, y))\n",
    "\n",
    "\n",
    "X_train, Y_train, X_test, Y_test = split(dataset, pd.Timestamp('2015-04-25'))\n",
    "print(rmse(Y_test, Y_test))\n",
    "X_train.tail()"
   ]
  },
  {
   "cell_type": "markdown",
   "metadata": {},
   "source": [
    "## Build model\n",
    "\n",
    "Here we will build 2 naive models. \n",
    "\n",
    "First on always predicts 0 value. The second one predicts mean value. \n",
    "\n",
    "We will evaluate which model is better"
   ]
  },
  {
   "cell_type": "code",
   "execution_count": 4,
   "metadata": {
    "collapsed": true
   },
   "outputs": [],
   "source": [
    "class ZeroModel:\n",
    "    \"\"\"\n",
    "    This model always predicts 0\n",
    "    \"\"\"\n",
    "    \n",
    "    def fit(self, X, y):\n",
    "        pass\n",
    "        \n",
    "    def predict(self, X):\n",
    "        return np.zeros(len(X))\n",
    "    \n",
    "    \n",
    "class MeanModel:\n",
    "    \"\"\"\n",
    "    This naive model predicts mean value based on train labels (We work with regression task)    \n",
    "    \"\"\"\n",
    "    \n",
    "    def __init__(self):\n",
    "        self.mu = 0\n",
    "    \n",
    "    def fit(self, X, y):\n",
    "        \"\"\"Calculate mean\"\"\"\n",
    "        self.mu = np.mean(y)\n",
    "        \n",
    "    def predict(self, X):\n",
    "        \"\"\"\n",
    "        Predict mean value.\n",
    "        Returns:\n",
    "        numpy arrray with as many rows as X has with the constant value.\n",
    "        \"\"\"\n",
    "        return np.ones(len(X)) * self.mu    "
   ]
  },
  {
   "cell_type": "markdown",
   "metadata": {},
   "source": [
    "# Evaluate model\n",
    "\n",
    "Here we will evaluate our model for each day in the last 12 months. And then report 90th percentile as a model accuracy.\n",
    "\n",
    "First let define function for evaluating our model"
   ]
  },
  {
   "cell_type": "code",
   "execution_count": 5,
   "metadata": {
    "collapsed": true
   },
   "outputs": [],
   "source": [
    "def evaluate_model(model):\n",
    "    split_day = pd.Timestamp('2016-11-11')\n",
    "    costs = []\n",
    "\n",
    "    while True:\n",
    "        X_train, Y_train, X_test, Y_test = split(dataset, split_day)\n",
    "        if len(X_test) == 0:\n",
    "            break\n",
    "        model.fit(X_train, Y_train)\n",
    "        cost = rmse(model.predict(X_test), Y_test)\n",
    "        costs.append(cost)\n",
    "        split_day += pd.Timedelta(1, 'D')\n",
    "    return np.percentile(costs, 90)"
   ]
  },
  {
   "cell_type": "markdown",
   "metadata": {},
   "source": [
    "### Now lets compare our models"
   ]
  },
  {
   "cell_type": "code",
   "execution_count": 6,
   "metadata": {
    "collapsed": false
   },
   "outputs": [
    {
     "name": "stdout",
     "output_type": "stream",
     "text": [
      "ZeroModel score: 84.52\n",
      "MeanModel score: 20.69\n"
     ]
    }
   ],
   "source": [
    "zero_model = ZeroModel()\n",
    "score = evaluate_model(zero_model)\n",
    "print('ZeroModel score: {:.2f}'.format(score))\n",
    "\n",
    "mean_model = MeanModel()\n",
    "score = evaluate_model(mean_model)\n",
    "print('MeanModel score: {:.2f}'.format(score))"
   ]
  },
  {
   "cell_type": "markdown",
   "metadata": {},
   "source": [
    "It looks that MeanModel is better (The lower the eror the better). "
   ]
  }
 ],
 "metadata": {
  "anaconda-cloud": {},
  "kernelspec": {
   "display_name": "Python [default]",
   "language": "python",
   "name": "python3"
  },
  "language_info": {
   "codemirror_mode": {
    "name": "ipython",
    "version": 3
   },
   "file_extension": ".py",
   "mimetype": "text/x-python",
   "name": "python",
   "nbconvert_exporter": "python",
   "pygments_lexer": "ipython3",
   "version": "3.5.2"
  }
 },
 "nbformat": 4,
 "nbformat_minor": 2
}
