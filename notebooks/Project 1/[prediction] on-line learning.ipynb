{
 "cells": [
  {
   "cell_type": "markdown",
   "metadata": {},
   "source": [
    "# Online prediction for Project1\n",
    "\n",
    "In online mode, the model is learning as soon as new data arrives.\n",
    "It means that when we want our prediction we don't need to provede feature vector, \n",
    "since all data was already processed by model.\n",
    "\n",
    "Table of contents:\n",
    "\n",
    "  * Load model and create training and test datasets\n"
   ]
  },
  {
   "cell_type": "code",
   "execution_count": 1,
   "metadata": {
    "collapsed": true
   },
   "outputs": [],
   "source": [
    "import datetime\n",
    "import calendar\n",
    "import pprint\n",
    "import json\n",
    "import numpy as np\n",
    "import pandas as pd\n",
    "from sklearn.metrics import mean_squared_error\n",
    "import matplotlib.pyplot as plt\n",
    "from matplotlib import rcParams\n",
    "rcParams['figure.figsize'] = 12, 4"
   ]
  },
  {
   "cell_type": "markdown",
   "metadata": {},
   "source": [
    "# Load project"
   ]
  },
  {
   "cell_type": "code",
   "execution_count": 3,
   "metadata": {},
   "outputs": [
    {
     "name": "stdout",
     "output_type": "stream",
     "text": [
      "{'end-date': '2017-11-09',\n",
      " 'flows': ['flow1'],\n",
      " 'name': 'Project1',\n",
      " 'rainfalls': [],\n",
      " 'split-date': '2016-11-10',\n",
      " 'start-date': '2013-09-10'}\n",
      "Flow1\n",
      "<class 'pandas.core.frame.DataFrame'>\n",
      "Int64Index: 437823 entries, 158 to 437980\n",
      "Data columns (total 2 columns):\n",
      "time    437823 non-null datetime64[ns]\n",
      "flow    437823 non-null float64\n",
      "dtypes: datetime64[ns](1), float64(1)\n",
      "memory usage: 10.0 MB\n",
      "None\n"
     ]
    },
    {
     "data": {
      "text/html": [
       "<div>\n",
       "<style scoped>\n",
       "    .dataframe tbody tr th:only-of-type {\n",
       "        vertical-align: middle;\n",
       "    }\n",
       "\n",
       "    .dataframe tbody tr th {\n",
       "        vertical-align: top;\n",
       "    }\n",
       "\n",
       "    .dataframe thead th {\n",
       "        text-align: right;\n",
       "    }\n",
       "</style>\n",
       "<table border=\"1\" class=\"dataframe\">\n",
       "  <thead>\n",
       "    <tr style=\"text-align: right;\">\n",
       "      <th></th>\n",
       "      <th>time</th>\n",
       "      <th>flow</th>\n",
       "    </tr>\n",
       "  </thead>\n",
       "  <tbody>\n",
       "    <tr>\n",
       "      <th>158</th>\n",
       "      <td>2013-09-10 00:00:00</td>\n",
       "      <td>0.0</td>\n",
       "    </tr>\n",
       "    <tr>\n",
       "      <th>159</th>\n",
       "      <td>2013-09-10 00:05:00</td>\n",
       "      <td>0.0</td>\n",
       "    </tr>\n",
       "    <tr>\n",
       "      <th>160</th>\n",
       "      <td>2013-09-10 00:10:00</td>\n",
       "      <td>0.0</td>\n",
       "    </tr>\n",
       "    <tr>\n",
       "      <th>161</th>\n",
       "      <td>2013-09-10 00:15:00</td>\n",
       "      <td>0.0</td>\n",
       "    </tr>\n",
       "    <tr>\n",
       "      <th>162</th>\n",
       "      <td>2013-09-10 00:20:00</td>\n",
       "      <td>0.0</td>\n",
       "    </tr>\n",
       "  </tbody>\n",
       "</table>\n",
       "</div>"
      ],
      "text/plain": [
       "                   time  flow\n",
       "158 2013-09-10 00:00:00   0.0\n",
       "159 2013-09-10 00:05:00   0.0\n",
       "160 2013-09-10 00:10:00   0.0\n",
       "161 2013-09-10 00:15:00   0.0\n",
       "162 2013-09-10 00:20:00   0.0"
      ]
     },
     "execution_count": 3,
     "metadata": {},
     "output_type": "execute_result"
    }
   ],
   "source": [
    "project_folder = '../../datasets/project1/'\n",
    "with open(project_folder + 'project.json', 'r') as file:\n",
    "    project = json.load(file)\n",
    "pprint.pprint(project)\n",
    "print('Flow1')\n",
    "flow = pd.read_csv(project_folder + 'flow1.csv', parse_dates=['time'])\n",
    "flow = flow[(flow.time >= project['start-date']) & (flow.time < project['end-date'])]\n",
    "print(flow.info())\n",
    "flow.head()"
   ]
  },
  {
   "cell_type": "markdown",
   "metadata": {},
   "source": [
    "## Helper functions\n",
    "\n",
    "Helper functions for building training and test sets and calculating score"
   ]
  },
  {
   "cell_type": "code",
   "execution_count": 6,
   "metadata": {
    "collapsed": true
   },
   "outputs": [],
   "source": [
    "class PredictionModel:\n",
    "    \n",
    "    def updare(self, data_points):\n",
    "        pass\n",
    "        \n",
    "    def predict(self, prediction_day):\n",
    "        pass\n",
    "\n",
    "    \n",
    "def mae(y_hat, y):\n",
    "    \"\"\"\n",
    "    Calculate Mean Absolute Error \n",
    "    This metric is better here since serries have quite big outliers\n",
    "    \"\"\"\n",
    "    return np.sum(np.absolute(y_hat-y, 2), axis=1)/y.shape[0]\n",
    "\n",
    "\n",
    "def evaluate_model(model):\n",
    "    \"\"\"\n",
    "    Evaluate model on all days starting from split_day.\n",
    "    Returns 90th percentile error as model score\n",
    "    \"\"\"\n",
    "    model.fit(X_train, Y_train)\n",
    "    costs = mae(model.predict(X_test), Y_test)\n",
    "    return np.percentile(costs, 90), costs"
   ]
  },
  {
   "cell_type": "markdown",
   "metadata": {},
   "source": [
    "# Models"
   ]
  }
 ],
 "metadata": {
  "anaconda-cloud": {},
  "kernelspec": {
   "display_name": "Python 3",
   "language": "python",
   "name": "python3"
  },
  "language_info": {
   "codemirror_mode": {
    "name": "ipython",
    "version": 3
   },
   "file_extension": ".py",
   "mimetype": "text/x-python",
   "name": "python",
   "nbconvert_exporter": "python",
   "pygments_lexer": "ipython3",
   "version": "3.6.3"
  }
 },
 "nbformat": 4,
 "nbformat_minor": 2
}
