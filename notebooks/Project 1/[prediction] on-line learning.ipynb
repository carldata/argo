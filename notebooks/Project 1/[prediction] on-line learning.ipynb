{
 "cells": [
  {
   "cell_type": "markdown",
   "metadata": {},
   "source": [
    "# Online prediction for Project1\n",
    "\n",
    "In online mode, the model is learning as soon as new data arrives.\n",
    "It means that when we want our prediction we don't need to provede feature vector, \n",
    "since all data was already processed by model.\n",
    "\n",
    "Table of contents:\n",
    "\n",
    "  * Load model and create training and test datasets\n"
   ]
  },
  {
   "cell_type": "code",
   "execution_count": 1,
   "metadata": {
    "collapsed": true
   },
   "outputs": [],
   "source": [
    "import datetime\n",
    "import calendar\n",
    "import pprint\n",
    "import json\n",
    "import numpy as np\n",
    "import pandas as pd\n",
    "from sklearn.metrics import mean_squared_error\n",
    "import matplotlib.pyplot as plt\n",
    "from matplotlib import rcParams\n",
    "rcParams['figure.figsize'] = 12, 4"
   ]
  },
  {
   "cell_type": "markdown",
   "metadata": {},
   "source": [
    "# Load project"
   ]
  },
  {
   "cell_type": "code",
   "execution_count": 45,
   "metadata": {},
   "outputs": [
    {
     "name": "stdout",
     "output_type": "stream",
     "text": [
      "{'end-date': '2017-11-09',\n",
      " 'flows': ['flow1'],\n",
      " 'name': 'Project1',\n",
      " 'rainfalls': [],\n",
      " 'split-date': '2016-11-10',\n",
      " 'start-date': '2013-09-10'}\n",
      "Flow1\n"
     ]
    },
    {
     "data": {
      "text/plain": [
       "time\n",
       "2013-09-09 10:50:00     2.805\n",
       "2013-09-09 10:55:00     2.796\n",
       "2013-09-09 11:00:00     2.791\n",
       "2013-09-09 11:05:00    46.680\n",
       "2013-09-09 11:10:00    48.030\n",
       "Freq: 5T, Name: flow, dtype: float64"
      ]
     },
     "execution_count": 45,
     "metadata": {},
     "output_type": "execute_result"
    }
   ],
   "source": [
    "project_folder = '../../datasets/project1/'\n",
    "with open(project_folder + 'project.json', 'r') as file:\n",
    "    project = json.load(file)\n",
    "pprint.pprint(project)\n",
    "print('Flow1')\n",
    "flow = pd.read_csv(project_folder + 'flow1.csv', parse_dates=['time'])\n",
    "flow = flow.set_index('time')['flow'].fillna(0)\n",
    "flow = flow.resample('5T').pad()\n",
    "flow.head()"
   ]
  },
  {
   "cell_type": "markdown",
   "metadata": {},
   "source": [
    "## Helper functions\n",
    "\n",
    "Helper functions for building training and test sets and calculating score"
   ]
  },
  {
   "cell_type": "code",
   "execution_count": 46,
   "metadata": {},
   "outputs": [
    {
     "data": {
      "text/plain": [
       "time\n",
       "2016-11-09 23:40:00    77.021540\n",
       "2016-11-09 23:45:00    76.518930\n",
       "2016-11-09 23:50:00    76.294914\n",
       "2016-11-09 23:55:00    74.822395\n",
       "2016-11-10 00:00:00    73.598236\n",
       "Freq: 5T, Name: flow, dtype: float64"
      ]
     },
     "execution_count": 46,
     "metadata": {},
     "output_type": "execute_result"
    }
   ],
   "source": [
    "class PredictionModel:\n",
    "    \n",
    "    def updare(self, data_points):\n",
    "        pass\n",
    "        \n",
    "    def predict(self, prediction_day):\n",
    "        pass\n",
    "\n",
    "    \n",
    "def mae(y_hat, y):\n",
    "    \"\"\"\n",
    "    Calculate Mean Absolute Error \n",
    "    This metric is better here since serries have quite big outliers\n",
    "    \"\"\"\n",
    "    return np.sum(np.absolute(y_hat-y))/y.shape[0]\n",
    "\n",
    "\n",
    "def split_data(split_day):\n",
    "    \"\"\"Get all data up to given day\"\"\"\n",
    "    return flow[:split_day]\n",
    "\n",
    "\n",
    "def evaluate_model(model, start_day):\n",
    "    \"\"\"\n",
    "    Evaluate model on all days starting from split_day.\n",
    "    Returns 90th percentile error as model score\n",
    "    \"\"\"\n",
    "    last_day = pd.Timestamp(project['end-date'])\n",
    "    split_day = start_day\n",
    "    costs = []\n",
    "    while split_day < last_day:\n",
    "        data = split_data(split_day)\n",
    "        model.fit(data)\n",
    "        next_day = split_day + pd.Timedelta(1, 'D')\n",
    "        y = flow[next_day: next_day+pd.Timedelta('1439 min')]\n",
    "        cost = mae(model.predict(next_day), y)\n",
    "        costs.append(cost)\n",
    "        split_day = next_day\n",
    "    return np.percentile(costs, 90), costs\n",
    "\n",
    "\n",
    "split_data(pd.Timestamp('2016-11-10')).tail()"
   ]
  },
  {
   "cell_type": "markdown",
   "metadata": {},
   "source": [
    "# Models\n",
    "\n",
    "# ConstMeanModel"
   ]
  },
  {
   "cell_type": "code",
   "execution_count": 60,
   "metadata": {},
   "outputs": [
    {
     "name": "stdout",
     "output_type": "stream",
     "text": [
      "ConstantMeanModel score: 18.86\n"
     ]
    }
   ],
   "source": [
    "class ConstantMeanModel(PredictionModel):\n",
    "    \n",
    "    def __init__(self):\n",
    "        self.mu = 0\n",
    "    \n",
    "    def fit(self, xs):\n",
    "        self.mu = np.mean(xs)\n",
    "        \n",
    "    def predict(self, day):\n",
    "        return np.ones(12*24) * self.mu    \n",
    "\n",
    "    \n",
    "score, costs = evaluate_model(ConstantMeanModel(), pd.Timestamp('2016-11-11'))\n",
    "print('ConstantMeanModel score: {:.2f}'.format(score))"
   ]
  },
  {
   "cell_type": "markdown",
   "metadata": {},
   "source": [
    "## LastDayModel\n",
    "\n",
    "Uses values from last day"
   ]
  },
  {
   "cell_type": "code",
   "execution_count": 61,
   "metadata": {},
   "outputs": [
    {
     "name": "stdout",
     "output_type": "stream",
     "text": [
      "LastDayModel score: 12.02\n"
     ]
    }
   ],
   "source": [
    "class LastDayModel(PredictionModel):\n",
    "    \n",
    "    def fit(self, xs):\n",
    "        self.y = xs.values[-288:]\n",
    "        \n",
    "    def predict(self, day):\n",
    "        return self.y\n",
    "\n",
    "    \n",
    "score, costs = evaluate_model(LastDayModel(), pd.Timestamp('2016-11-11'))\n",
    "print('LastDayModel score: {:.2f}'.format(score))"
   ]
  },
  {
   "cell_type": "markdown",
   "metadata": {},
   "source": [
    "## Day model\n",
    "\n",
    "Calculate value for each hour from all days in the training set. Use it as prediction model for the next day\n"
   ]
  },
  {
   "cell_type": "code",
   "execution_count": 77,
   "metadata": {},
   "outputs": [
    {
     "name": "stdout",
     "output_type": "stream",
     "text": [
      "DayModel score: 9.61\n"
     ]
    }
   ],
   "source": [
    "class DayModel(PredictionModel):\n",
    "    \n",
    "    def fit(self, xs):\n",
    "        df = flow.to_frame().reset_index()\n",
    "        self.y = df.groupby(by=[df.time.map(lambda x : (x.hour, x.minute))]).mean().flow.values\n",
    "        \n",
    "    def predict(self, day):\n",
    "        return self.y\n",
    "\n",
    "    \n",
    "score, costs = evaluate_model(DayModel(), pd.Timestamp('2016-11-11'))\n",
    "print('DayModel score: {:.2f}'.format(score))"
   ]
  }
 ],
 "metadata": {
  "anaconda-cloud": {},
  "kernelspec": {
   "display_name": "Python 3",
   "language": "python",
   "name": "python3"
  },
  "language_info": {
   "codemirror_mode": {
    "name": "ipython",
    "version": 3
   },
   "file_extension": ".py",
   "mimetype": "text/x-python",
   "name": "python",
   "nbconvert_exporter": "python",
   "pygments_lexer": "ipython3",
   "version": "3.6.3"
  }
 },
 "nbformat": 4,
 "nbformat_minor": 2
}
